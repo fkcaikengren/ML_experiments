{
 "cells": [
  {
   "cell_type": "markdown",
   "id": "d883cb22",
   "metadata": {},
   "source": [
    "## Xgboost调参步骤\n",
    "参考：https://zhuanlan.zhihu.com/p/29649128  \n",
    "使用泰坦尼克号数据进行训练"
   ]
  },
  {
   "cell_type": "code",
   "execution_count": 137,
   "id": "5f92b794",
   "metadata": {},
   "outputs": [],
   "source": [
    "import numpy as np\n",
    "import pandas as pd\n",
    "import matplotlib.pyplot as plt\n",
    "%matplotlib inline\n",
    "import xgboost as xgb\n",
    "from xgboost import XGBClassifier,XGBRegressor\n",
    "from sklearn.metrics import accuracy_score,mean_squared_error, roc_auc_score\n",
    "from sklearn.model_selection import train_test_split, cross_val_score,GridSearchCV,learning_curve\n",
    "from sklearn.preprocessing import OneHotEncoder\n",
    "from sklearn.impute import SimpleImputer"
   ]
  },
  {
   "cell_type": "markdown",
   "id": "58971774",
   "metadata": {},
   "source": [
    "### 数据导入和预处理"
   ]
  },
  {
   "cell_type": "code",
   "execution_count": 138,
   "id": "b595d940",
   "metadata": {
    "scrolled": true
   },
   "outputs": [
    {
     "name": "stdout",
     "output_type": "stream",
     "text": [
      "<class 'pandas.core.frame.DataFrame'>\n",
      "RangeIndex: 891 entries, 0 to 890\n",
      "Data columns (total 12 columns):\n",
      " #   Column       Non-Null Count  Dtype  \n",
      "---  ------       --------------  -----  \n",
      " 0   PassengerId  891 non-null    int64  \n",
      " 1   Survived     891 non-null    int64  \n",
      " 2   Pclass       891 non-null    int64  \n",
      " 3   Name         891 non-null    object \n",
      " 4   Sex          891 non-null    object \n",
      " 5   Age          714 non-null    float64\n",
      " 6   SibSp        891 non-null    int64  \n",
      " 7   Parch        891 non-null    int64  \n",
      " 8   Ticket       891 non-null    object \n",
      " 9   Fare         891 non-null    float64\n",
      " 10  Cabin        204 non-null    object \n",
      " 11  Embarked     889 non-null    object \n",
      "dtypes: float64(2), int64(5), object(5)\n",
      "memory usage: 83.7+ KB\n"
     ]
    },
    {
     "data": {
      "text/html": [
       "<div>\n",
       "<style scoped>\n",
       "    .dataframe tbody tr th:only-of-type {\n",
       "        vertical-align: middle;\n",
       "    }\n",
       "\n",
       "    .dataframe tbody tr th {\n",
       "        vertical-align: top;\n",
       "    }\n",
       "\n",
       "    .dataframe thead th {\n",
       "        text-align: right;\n",
       "    }\n",
       "</style>\n",
       "<table border=\"1\" class=\"dataframe\">\n",
       "  <thead>\n",
       "    <tr style=\"text-align: right;\">\n",
       "      <th></th>\n",
       "      <th>Survived</th>\n",
       "      <th>Pclass</th>\n",
       "      <th>Sex</th>\n",
       "      <th>Age</th>\n",
       "      <th>SibSp</th>\n",
       "      <th>Parch</th>\n",
       "      <th>Embarked</th>\n",
       "    </tr>\n",
       "  </thead>\n",
       "  <tbody>\n",
       "    <tr>\n",
       "      <th>0</th>\n",
       "      <td>0</td>\n",
       "      <td>3</td>\n",
       "      <td>male</td>\n",
       "      <td>22.000000</td>\n",
       "      <td>1</td>\n",
       "      <td>0</td>\n",
       "      <td>S</td>\n",
       "    </tr>\n",
       "    <tr>\n",
       "      <th>1</th>\n",
       "      <td>1</td>\n",
       "      <td>1</td>\n",
       "      <td>female</td>\n",
       "      <td>38.000000</td>\n",
       "      <td>1</td>\n",
       "      <td>0</td>\n",
       "      <td>C</td>\n",
       "    </tr>\n",
       "    <tr>\n",
       "      <th>2</th>\n",
       "      <td>1</td>\n",
       "      <td>3</td>\n",
       "      <td>female</td>\n",
       "      <td>26.000000</td>\n",
       "      <td>0</td>\n",
       "      <td>0</td>\n",
       "      <td>S</td>\n",
       "    </tr>\n",
       "    <tr>\n",
       "      <th>3</th>\n",
       "      <td>1</td>\n",
       "      <td>1</td>\n",
       "      <td>female</td>\n",
       "      <td>35.000000</td>\n",
       "      <td>1</td>\n",
       "      <td>0</td>\n",
       "      <td>S</td>\n",
       "    </tr>\n",
       "    <tr>\n",
       "      <th>4</th>\n",
       "      <td>0</td>\n",
       "      <td>3</td>\n",
       "      <td>male</td>\n",
       "      <td>35.000000</td>\n",
       "      <td>0</td>\n",
       "      <td>0</td>\n",
       "      <td>S</td>\n",
       "    </tr>\n",
       "    <tr>\n",
       "      <th>...</th>\n",
       "      <td>...</td>\n",
       "      <td>...</td>\n",
       "      <td>...</td>\n",
       "      <td>...</td>\n",
       "      <td>...</td>\n",
       "      <td>...</td>\n",
       "      <td>...</td>\n",
       "    </tr>\n",
       "    <tr>\n",
       "      <th>884</th>\n",
       "      <td>0</td>\n",
       "      <td>2</td>\n",
       "      <td>male</td>\n",
       "      <td>27.000000</td>\n",
       "      <td>0</td>\n",
       "      <td>0</td>\n",
       "      <td>S</td>\n",
       "    </tr>\n",
       "    <tr>\n",
       "      <th>885</th>\n",
       "      <td>1</td>\n",
       "      <td>1</td>\n",
       "      <td>female</td>\n",
       "      <td>19.000000</td>\n",
       "      <td>0</td>\n",
       "      <td>0</td>\n",
       "      <td>S</td>\n",
       "    </tr>\n",
       "    <tr>\n",
       "      <th>886</th>\n",
       "      <td>0</td>\n",
       "      <td>3</td>\n",
       "      <td>female</td>\n",
       "      <td>29.699118</td>\n",
       "      <td>1</td>\n",
       "      <td>2</td>\n",
       "      <td>S</td>\n",
       "    </tr>\n",
       "    <tr>\n",
       "      <th>887</th>\n",
       "      <td>1</td>\n",
       "      <td>1</td>\n",
       "      <td>male</td>\n",
       "      <td>26.000000</td>\n",
       "      <td>0</td>\n",
       "      <td>0</td>\n",
       "      <td>C</td>\n",
       "    </tr>\n",
       "    <tr>\n",
       "      <th>888</th>\n",
       "      <td>0</td>\n",
       "      <td>3</td>\n",
       "      <td>male</td>\n",
       "      <td>32.000000</td>\n",
       "      <td>0</td>\n",
       "      <td>0</td>\n",
       "      <td>Q</td>\n",
       "    </tr>\n",
       "  </tbody>\n",
       "</table>\n",
       "<p>889 rows × 7 columns</p>\n",
       "</div>"
      ],
      "text/plain": [
       "     Survived  Pclass     Sex        Age  SibSp  Parch Embarked\n",
       "0           0       3    male  22.000000      1      0        S\n",
       "1           1       1  female  38.000000      1      0        C\n",
       "2           1       3  female  26.000000      0      0        S\n",
       "3           1       1  female  35.000000      1      0        S\n",
       "4           0       3    male  35.000000      0      0        S\n",
       "..        ...     ...     ...        ...    ...    ...      ...\n",
       "884         0       2    male  27.000000      0      0        S\n",
       "885         1       1  female  19.000000      0      0        S\n",
       "886         0       3  female  29.699118      1      2        S\n",
       "887         1       1    male  26.000000      0      0        C\n",
       "888         0       3    male  32.000000      0      0        Q\n",
       "\n",
       "[889 rows x 7 columns]"
      ]
     },
     "execution_count": 138,
     "metadata": {},
     "output_type": "execute_result"
    }
   ],
   "source": [
    "df = pd.read_csv('../data/taitanic_data/data.csv')\n",
    "df.info()\n",
    "#数据预处理\n",
    "df.drop(['PassengerId','Name','Ticket', 'Fare', 'Cabin'], axis=1, inplace=True)\n",
    "df['Age'] = SimpleImputer(strategy='mean').fit_transform(df[['Age']]) #均值填充age\n",
    "df.dropna(axis=0, inplace=True)     #删除有缺失值的行\n",
    "df.reset_index(drop=True, inplace=True)\n",
    "df"
   ]
  },
  {
   "cell_type": "code",
   "execution_count": 139,
   "id": "b78d15e0",
   "metadata": {
    "scrolled": true
   },
   "outputs": [
    {
     "name": "stdout",
     "output_type": "stream",
     "text": [
      "[array(['female', 'male'], dtype=object), array(['C', 'Q', 'S'], dtype=object)]\n",
      "['Sex' 'Embarked']\n",
      "     0  1  2  3  4\n",
      "0    0  1  0  0  1\n",
      "1    1  0  1  0  0\n",
      "2    1  0  0  0  1\n",
      "3    1  0  0  0  1\n",
      "4    0  1  0  0  1\n",
      "..  .. .. .. .. ..\n",
      "884  0  1  0  0  1\n",
      "885  1  0  0  0  1\n",
      "886  1  0  0  0  1\n",
      "887  0  1  1  0  0\n",
      "888  0  1  0  1  0\n",
      "\n",
      "[889 rows x 5 columns]\n"
     ]
    },
    {
     "data": {
      "text/plain": [
       "array(['Sex_female', 'Sex_male', 'Embarked_C', 'Embarked_Q', 'Embarked_S'],\n",
       "      dtype=object)"
      ]
     },
     "execution_count": 139,
     "metadata": {},
     "output_type": "execute_result"
    }
   ],
   "source": [
    "# 分割出标签\n",
    "y_data = df['Survived']\n",
    "x_data = df.drop(['Survived'], axis=1)\n",
    "# 编码\n",
    "enc = OneHotEncoder(dtype=int)\n",
    "result = enc.fit_transform( x_data[['Sex','Embarked']]).toarray()\n",
    "print(enc.categories_)\n",
    "print(enc.feature_names_in_) #参与one-hot编码的特征名字\n",
    "code_df = pd.DataFrame(result)\n",
    "print(code_df)\n",
    "column_names = enc.get_feature_names_out()\n",
    "column_names"
   ]
  },
  {
   "cell_type": "code",
   "execution_count": 140,
   "id": "54b53af7",
   "metadata": {},
   "outputs": [
    {
     "data": {
      "text/html": [
       "<div>\n",
       "<style scoped>\n",
       "    .dataframe tbody tr th:only-of-type {\n",
       "        vertical-align: middle;\n",
       "    }\n",
       "\n",
       "    .dataframe tbody tr th {\n",
       "        vertical-align: top;\n",
       "    }\n",
       "\n",
       "    .dataframe thead th {\n",
       "        text-align: right;\n",
       "    }\n",
       "</style>\n",
       "<table border=\"1\" class=\"dataframe\">\n",
       "  <thead>\n",
       "    <tr style=\"text-align: right;\">\n",
       "      <th></th>\n",
       "      <th>Pclass</th>\n",
       "      <th>Age</th>\n",
       "      <th>SibSp</th>\n",
       "      <th>Parch</th>\n",
       "      <th>Sex_female</th>\n",
       "      <th>Sex_male</th>\n",
       "      <th>Embarked_C</th>\n",
       "      <th>Embarked_Q</th>\n",
       "      <th>Embarked_S</th>\n",
       "    </tr>\n",
       "  </thead>\n",
       "  <tbody>\n",
       "    <tr>\n",
       "      <th>670</th>\n",
       "      <td>1</td>\n",
       "      <td>31.000000</td>\n",
       "      <td>1</td>\n",
       "      <td>0</td>\n",
       "      <td>0</td>\n",
       "      <td>1</td>\n",
       "      <td>0</td>\n",
       "      <td>0</td>\n",
       "      <td>1</td>\n",
       "    </tr>\n",
       "    <tr>\n",
       "      <th>125</th>\n",
       "      <td>3</td>\n",
       "      <td>29.699118</td>\n",
       "      <td>0</td>\n",
       "      <td>0</td>\n",
       "      <td>0</td>\n",
       "      <td>1</td>\n",
       "      <td>0</td>\n",
       "      <td>1</td>\n",
       "      <td>0</td>\n",
       "    </tr>\n",
       "    <tr>\n",
       "      <th>570</th>\n",
       "      <td>1</td>\n",
       "      <td>53.000000</td>\n",
       "      <td>2</td>\n",
       "      <td>0</td>\n",
       "      <td>1</td>\n",
       "      <td>0</td>\n",
       "      <td>0</td>\n",
       "      <td>0</td>\n",
       "      <td>1</td>\n",
       "    </tr>\n",
       "    <tr>\n",
       "      <th>811</th>\n",
       "      <td>2</td>\n",
       "      <td>35.000000</td>\n",
       "      <td>0</td>\n",
       "      <td>0</td>\n",
       "      <td>0</td>\n",
       "      <td>1</td>\n",
       "      <td>0</td>\n",
       "      <td>0</td>\n",
       "      <td>1</td>\n",
       "    </tr>\n",
       "    <tr>\n",
       "      <th>253</th>\n",
       "      <td>3</td>\n",
       "      <td>41.000000</td>\n",
       "      <td>0</td>\n",
       "      <td>2</td>\n",
       "      <td>1</td>\n",
       "      <td>0</td>\n",
       "      <td>0</td>\n",
       "      <td>0</td>\n",
       "      <td>1</td>\n",
       "    </tr>\n",
       "    <tr>\n",
       "      <th>...</th>\n",
       "      <td>...</td>\n",
       "      <td>...</td>\n",
       "      <td>...</td>\n",
       "      <td>...</td>\n",
       "      <td>...</td>\n",
       "      <td>...</td>\n",
       "      <td>...</td>\n",
       "      <td>...</td>\n",
       "      <td>...</td>\n",
       "    </tr>\n",
       "    <tr>\n",
       "      <th>266</th>\n",
       "      <td>3</td>\n",
       "      <td>25.000000</td>\n",
       "      <td>1</td>\n",
       "      <td>0</td>\n",
       "      <td>0</td>\n",
       "      <td>1</td>\n",
       "      <td>0</td>\n",
       "      <td>0</td>\n",
       "      <td>1</td>\n",
       "    </tr>\n",
       "    <tr>\n",
       "      <th>264</th>\n",
       "      <td>2</td>\n",
       "      <td>36.000000</td>\n",
       "      <td>0</td>\n",
       "      <td>0</td>\n",
       "      <td>0</td>\n",
       "      <td>1</td>\n",
       "      <td>0</td>\n",
       "      <td>0</td>\n",
       "      <td>1</td>\n",
       "    </tr>\n",
       "    <tr>\n",
       "      <th>514</th>\n",
       "      <td>1</td>\n",
       "      <td>47.000000</td>\n",
       "      <td>0</td>\n",
       "      <td>0</td>\n",
       "      <td>0</td>\n",
       "      <td>1</td>\n",
       "      <td>0</td>\n",
       "      <td>0</td>\n",
       "      <td>1</td>\n",
       "    </tr>\n",
       "    <tr>\n",
       "      <th>510</th>\n",
       "      <td>3</td>\n",
       "      <td>29.699118</td>\n",
       "      <td>0</td>\n",
       "      <td>0</td>\n",
       "      <td>0</td>\n",
       "      <td>1</td>\n",
       "      <td>0</td>\n",
       "      <td>0</td>\n",
       "      <td>1</td>\n",
       "    </tr>\n",
       "    <tr>\n",
       "      <th>405</th>\n",
       "      <td>3</td>\n",
       "      <td>51.000000</td>\n",
       "      <td>0</td>\n",
       "      <td>0</td>\n",
       "      <td>0</td>\n",
       "      <td>1</td>\n",
       "      <td>0</td>\n",
       "      <td>0</td>\n",
       "      <td>1</td>\n",
       "    </tr>\n",
       "  </tbody>\n",
       "</table>\n",
       "<p>622 rows × 9 columns</p>\n",
       "</div>"
      ],
      "text/plain": [
       "     Pclass        Age  SibSp  Parch  Sex_female  Sex_male  Embarked_C  \\\n",
       "670       1  31.000000      1      0           0         1           0   \n",
       "125       3  29.699118      0      0           0         1           0   \n",
       "570       1  53.000000      2      0           1         0           0   \n",
       "811       2  35.000000      0      0           0         1           0   \n",
       "253       3  41.000000      0      2           1         0           0   \n",
       "..      ...        ...    ...    ...         ...       ...         ...   \n",
       "266       3  25.000000      1      0           0         1           0   \n",
       "264       2  36.000000      0      0           0         1           0   \n",
       "514       1  47.000000      0      0           0         1           0   \n",
       "510       3  29.699118      0      0           0         1           0   \n",
       "405       3  51.000000      0      0           0         1           0   \n",
       "\n",
       "     Embarked_Q  Embarked_S  \n",
       "670           0           1  \n",
       "125           1           0  \n",
       "570           0           1  \n",
       "811           0           1  \n",
       "253           0           1  \n",
       "..          ...         ...  \n",
       "266           0           1  \n",
       "264           0           1  \n",
       "514           0           1  \n",
       "510           0           1  \n",
       "405           0           1  \n",
       "\n",
       "[622 rows x 9 columns]"
      ]
     },
     "execution_count": 140,
     "metadata": {},
     "output_type": "execute_result"
    }
   ],
   "source": [
    "# 拼接one-hot编码\n",
    "x_data = pd.concat([x_data, code_df], axis=1)\n",
    "x_data.drop(columns=enc.feature_names_in_,inplace=True)\n",
    "keys = range(column_names.shape[0])\n",
    "x_data.rename(columns=dict(zip(keys, column_names)), inplace=True)\n",
    "x_train,x_test,y_train,y_test = train_test_split(x_data,y_data,test_size=0.3)\n",
    "x_train"
   ]
  },
  {
   "cell_type": "markdown",
   "id": "01f5d170",
   "metadata": {},
   "source": [
    "### Xgboost调参"
   ]
  },
  {
   "cell_type": "code",
   "execution_count": 141,
   "id": "24a07430",
   "metadata": {},
   "outputs": [],
   "source": [
    "# 初始参数\n",
    "params_best = {\n",
    "    'n_estimators':120,\n",
    "    'max_depth':6,\n",
    "    'eta':0.1,\n",
    "    'gamma':1,\n",
    "    'reg_lambda':3,\n",
    "    'reg_alpha':0,\n",
    "    'eval_metric':'auc',\n",
    "    'seed':1024\n",
    "}"
   ]
  },
  {
   "cell_type": "markdown",
   "id": "ec3d68c0",
   "metadata": {},
   "source": [
    "### 步骤一：调n_estimators和eta"
   ]
  },
  {
   "cell_type": "code",
   "execution_count": 142,
   "id": "4ed5bb46",
   "metadata": {},
   "outputs": [],
   "source": [
    "# early_stopping_rounds : \n",
    "#       cv过程中验证集出现early_stopping_rounds次数的score decrease后将提前停止迭代（一般设置为迭代次数的10%）\n",
    "def modelfit(alg, x_train,y_train, useTrainCV=True, cv_folds=5, early_stopping_rounds=30):\n",
    "\n",
    "    if useTrainCV:\n",
    "        # train\n",
    "        xgb_param = alg.get_xgb_params()\n",
    "        dtrain = xgb.DMatrix(x_train, y_train)\n",
    "        cvresult = xgb.cv(xgb_param, dtrain, num_boost_round=alg.get_params()['n_estimators'], nfold=cv_folds,\n",
    "             early_stopping_rounds=early_stopping_rounds)\n",
    "        alg.set_params(n_estimators=cvresult.shape[0])\n",
    "        alg.fit(x_train, y_train)\n",
    "\n",
    "    # pred\n",
    "    dtrain_predictions = alg.predict(x_train)\n",
    "    dtrain_predprob = alg.predict_proba(x_train)[:,1]\n",
    "\n",
    "\n",
    "    # eval\n",
    "    print(\"当前树数量：%d\" % alg.n_estimators)\n",
    "    print (\"关于现在这个模型(在训练集上表现)：\")\n",
    "    print (\"准确率 : %.4g\" % accuracy_score(y_train, dtrain_predictions))\n",
    "    print (\"AUC 得分 : %f\" % roc_auc_score(y_train, dtrain_predprob))\n",
    "\n",
    "def plot_feat_importance(alg, columns):\n",
    "    feat_imp = pd.Series(alg.feature_importances_,index=list(columns)).sort_values(ascending=False)\n",
    "    fig, ax = plt.subplots(figsize=(12,5))\n",
    "    feat_imp.plot(kind='bar', ax=ax, title='Feature Importances')\n",
    "    ax.set_ylabel('Feature Importance Score')\n",
    "    "
   ]
  },
  {
   "cell_type": "code",
   "execution_count": 143,
   "id": "2a44772a",
   "metadata": {},
   "outputs": [
    {
     "name": "stdout",
     "output_type": "stream",
     "text": [
      "\n",
      "---eta=0.03---\n",
      "当前树数量：67\n",
      "关于现在这个模型(在训练集上表现)：\n",
      "准确率 : 0.8549\n",
      "AUC 得分 : 0.897126\n",
      "----测试集score:0.8689138576779026---\n",
      "\n",
      "---eta=0.06---\n",
      "当前树数量：35\n",
      "关于现在这个模型(在训练集上表现)：\n",
      "准确率 : 0.8538\n",
      "AUC 得分 : 0.897940\n",
      "----测试集score:0.8689138576779026---\n",
      "\n",
      "---eta=0.09---\n",
      "当前树数量：24\n",
      "关于现在这个模型(在训练集上表现)：\n",
      "准确率 : 0.8493\n",
      "AUC 得分 : 0.899973\n",
      "----测试集score:0.8614232209737828---\n",
      "\n",
      "---eta=0.12---\n",
      "当前树数量：17\n",
      "关于现在这个模型(在训练集上表现)：\n",
      "准确率 : 0.8594\n",
      "AUC 得分 : 0.897710\n",
      "----测试集score:0.8651685393258427---\n",
      "\n",
      "---eta=0.15---\n",
      "当前树数量：14\n",
      "关于现在这个模型(在训练集上表现)：\n",
      "准确率 : 0.8526\n",
      "AUC 得分 : 0.898154\n",
      "----测试集score:0.8614232209737828---\n",
      "\n",
      "---eta=0.18---\n",
      "当前树数量：13\n",
      "关于现在这个模型(在训练集上表现)：\n",
      "准确率 : 0.8515\n",
      "AUC 得分 : 0.903498\n",
      "----测试集score:0.8651685393258427---\n",
      "\n",
      "---eta=0.21---\n",
      "当前树数量：10\n",
      "关于现在这个模型(在训练集上表现)：\n",
      "准确率 : 0.847\n",
      "AUC 得分 : 0.898195\n",
      "----测试集score:0.8614232209737828---\n",
      "\n",
      "---eta=0.24---\n",
      "当前树数量：9\n",
      "关于现在这个模型(在训练集上表现)：\n",
      "准确率 : 0.8504\n",
      "AUC 得分 : 0.898473\n",
      "----测试集score:0.8614232209737828---\n",
      "\n",
      "---eta=0.27---\n",
      "当前树数量：9\n",
      "关于现在这个模型(在训练集上表现)：\n",
      "准确率 : 0.8549\n",
      "AUC 得分 : 0.904902\n",
      "----测试集score:0.8614232209737828---\n",
      "\n",
      "---eta=0.30000000000000004---\n",
      "当前树数量：6\n",
      "关于现在这个模型(在训练集上表现)：\n",
      "准确率 : 0.8538\n",
      "AUC 得分 : 0.895661\n",
      "----测试集score:0.8576779026217228---\n"
     ]
    },
    {
     "data": {
      "text/plain": [
       "{'n_estimators': 67,\n",
       " 'max_depth': 6,\n",
       " 'eta': 0.03,\n",
       " 'gamma': 1,\n",
       " 'reg_lambda': 3,\n",
       " 'reg_alpha': 0,\n",
       " 'eval_metric': 'auc',\n",
       " 'seed': 1024}"
      ]
     },
     "execution_count": 143,
     "metadata": {},
     "output_type": "execute_result"
    }
   ],
   "source": [
    "\n",
    "def search_best_xgbc(init_params,x_train, y_train):\n",
    "    best_xgbc = None\n",
    "    best_score = 0\n",
    "    for i in np.arange(0.03,0.3,0.03):\n",
    "        print(f\"\\n---eta={i}---\")\n",
    "        params_best['eta'] = i\n",
    "        xgbc_1 = XGBClassifier(**init_params)\n",
    "        modelfit(xgbc_1, x_train, y_train)\n",
    "        score = xgbc_1.score(x_test,y_test)\n",
    "        if(best_score < score):\n",
    "            best_score = score\n",
    "            best_xgbc = xgbc_1\n",
    "        print(f\"----测试集score:{score}---\")\n",
    "    return best_xgbc\n",
    "\n",
    "best_xgbc = search_best_xgbc(params_best, x_data, y_data)\n",
    "params_best['n_estimators'] = best_xgbc.n_estimators\n",
    "params_best['eta'] = best_xgbc.get_params()['eta']\n",
    "params_best"
   ]
  },
  {
   "cell_type": "markdown",
   "id": "53fa5e40",
   "metadata": {},
   "source": [
    "### 步骤二：max_depth 和 min_weight 参数调优"
   ]
  },
  {
   "cell_type": "code",
   "execution_count": 152,
   "id": "f1156165",
   "metadata": {},
   "outputs": [
    {
     "data": {
      "text/plain": [
       "({'max_depth': 7}, 0.8694553058921652)"
      ]
     },
     "execution_count": 152,
     "metadata": {},
     "output_type": "execute_result"
    }
   ],
   "source": [
    "#先粗略估计max_depth\n",
    "param_grid = {\n",
    "    'max_depth':range(3,10),\n",
    "}\n",
    "gs = GridSearchCV(estimator = XGBClassifier(**params_best), \n",
    "                       param_grid = param_grid, scoring='roc_auc',cv=5)\n",
    "gs.fit(x_data, y_data)\n",
    "gs.best_params_, gs.best_score_"
   ]
  },
  {
   "cell_type": "code",
   "execution_count": 146,
   "id": "187d03f1",
   "metadata": {},
   "outputs": [
    {
     "data": {
      "text/plain": [
       "({'min_child_weight': 1}, 0.8671699455428543)"
      ]
     },
     "execution_count": 146,
     "metadata": {},
     "output_type": "execute_result"
    }
   ],
   "source": [
    "#先粗略估计\n",
    "param_grid = {\n",
    "   'min_child_weight':[1,2,3]\n",
    "}\n",
    "gs = GridSearchCV(estimator = XGBClassifier(**params_best), \n",
    "                       param_grid = param_grid, scoring='roc_auc',cv=5)\n",
    "gs.fit(x_data, y_data)\n",
    "gs.best_params_, gs.best_score_"
   ]
  },
  {
   "cell_type": "code",
   "execution_count": 151,
   "id": "83f37d81",
   "metadata": {},
   "outputs": [
    {
     "name": "stdout",
     "output_type": "stream",
     "text": [
      "{'max_depth': 5, 'min_child_weight': 2} 0.8571817174499875\n"
     ]
    }
   ],
   "source": [
    "# min_child_weight 对数据量较大的情况有用\n",
    "param_grid = {\n",
    "    'max_depth':[3,4,5,6,7],\n",
    "    'min_child_weight':[0,1,2,3]\n",
    "}\n",
    "gs = GridSearchCV(estimator = XGBClassifier(**params_best), \n",
    "                       param_grid=param_grid, scoring='roc_auc',cv=5)\n",
    "gs.fit(x_train, y_train)\n",
    "\n",
    "print(gs.best_params_, gs.best_score_)\n"
   ]
  },
  {
   "cell_type": "code",
   "execution_count": 153,
   "id": "2d6e84c3",
   "metadata": {},
   "outputs": [
    {
     "data": {
      "text/plain": [
       "{'n_estimators': 67,\n",
       " 'max_depth': 7,\n",
       " 'eta': 0.03,\n",
       " 'gamma': 1,\n",
       " 'reg_lambda': 3,\n",
       " 'reg_alpha': 0,\n",
       " 'eval_metric': 'auc',\n",
       " 'seed': 1024}"
      ]
     },
     "execution_count": 153,
     "metadata": {},
     "output_type": "execute_result"
    }
   ],
   "source": [
    "params_best['max_depth'] = gs.best_params_['max_depth']\n",
    "# params_best['min_child_weight'] = gs.best_params_['min_child_weight'] min_child_weight不调\n",
    "params_best"
   ]
  },
  {
   "cell_type": "markdown",
   "id": "788dc77b",
   "metadata": {},
   "source": [
    "### 步骤三：gamma参数调优"
   ]
  },
  {
   "cell_type": "code",
   "execution_count": 154,
   "id": "9cbb8568",
   "metadata": {},
   "outputs": [
    {
     "data": {
      "text/plain": [
       "({'gamma': 0.9}, 0.8658973163911101)"
      ]
     },
     "execution_count": 154,
     "metadata": {},
     "output_type": "execute_result"
    }
   ],
   "source": [
    "param_grid = {\n",
    "   'gamma':[*np.arange(0,1,0.1)]\n",
    "}\n",
    "gs = GridSearchCV(estimator = XGBClassifier(**params_best), \n",
    "                       param_grid = param_grid, scoring='roc_auc',cv=5)\n",
    "gs.fit(x_data, y_data)\n",
    "gs.best_params_, gs.best_score_"
   ]
  },
  {
   "cell_type": "code",
   "execution_count": 156,
   "id": "36a71901",
   "metadata": {},
   "outputs": [
    {
     "data": {
      "text/plain": [
       "({'gamma': 0.24}, 0.8642948780846783)"
      ]
     },
     "execution_count": 156,
     "metadata": {},
     "output_type": "execute_result"
    }
   ],
   "source": [
    "param_grid = {\n",
    "   'gamma':[*np.arange(0,0.3,0.02)]\n",
    "}\n",
    "gs = GridSearchCV(estimator = XGBClassifier(**params_best), \n",
    "                       param_grid = param_grid, scoring='roc_auc',cv=5)\n",
    "gs.fit(x_data, y_data)\n",
    "gs.best_params_, gs.best_score_"
   ]
  },
  {
   "cell_type": "code",
   "execution_count": 120,
   "id": "13168428",
   "metadata": {
    "scrolled": false
   },
   "outputs": [
    {
     "data": {
      "text/plain": [
       "{'n_estimators': 22,\n",
       " 'max_depth': 4,\n",
       " 'eta': 0.03,\n",
       " 'gamma': 0.26,\n",
       " 'reg_lambda': 3,\n",
       " 'reg_alpha': 0,\n",
       " 'eval_metric': 'auc',\n",
       " 'seed': 1024,\n",
       " 'min_child_weight': 3}"
      ]
     },
     "execution_count": 120,
     "metadata": {},
     "output_type": "execute_result"
    }
   ],
   "source": [
    "params_best['gamma'] = gs.best_params_['gamma']\n",
    "params_best"
   ]
  },
  {
   "cell_type": "code",
   "execution_count": 158,
   "id": "feb682de",
   "metadata": {},
   "outputs": [
    {
     "data": {
      "text/plain": [
       "0.8164794007490637"
      ]
     },
     "execution_count": 158,
     "metadata": {},
     "output_type": "execute_result"
    }
   ],
   "source": [
    "# 看一下测试集分数\n",
    "xgbc = XGBClassifier(**params_best)\n",
    "xgbc.fit(x_train,y_train)\n",
    "xgbc.score(x_test,y_test)"
   ]
  },
  {
   "cell_type": "markdown",
   "id": "984a9979",
   "metadata": {},
   "source": [
    "### 步骤四：调subsample 和colsample_bytree"
   ]
  },
  {
   "cell_type": "code",
   "execution_count": 129,
   "id": "e15b8f16",
   "metadata": {},
   "outputs": [
    {
     "data": {
      "text/plain": [
       "({'subsample': 0.8400000000000001}, 0.860084629347986)"
      ]
     },
     "execution_count": 129,
     "metadata": {},
     "output_type": "execute_result"
    }
   ],
   "source": [
    "param_grid = {\n",
    "   'subsample':[*np.arange(0.8,1,0.01)],\n",
    "}\n",
    "gs = GridSearchCV(estimator = XGBClassifier(**params_best), \n",
    "                       param_grid = param_grid, scoring='roc_auc',cv=5)\n",
    "gs.fit(x_data, y_data)\n",
    "gs.best_params_, gs.best_score_"
   ]
  },
  {
   "cell_type": "code",
   "execution_count": 131,
   "id": "22444cd4",
   "metadata": {},
   "outputs": [
    {
     "data": {
      "text/plain": [
       "({'colsample_bytree': 1.0000000000000002}, 0.8556174262866113)"
      ]
     },
     "execution_count": 131,
     "metadata": {},
     "output_type": "execute_result"
    }
   ],
   "source": [
    "param_grid = {\n",
    "   'colsample_bytree':[*np.arange(0.8,1.0001,0.05)],\n",
    "}\n",
    "gs = GridSearchCV(estimator = XGBClassifier(**params_best), \n",
    "                       param_grid = param_grid, scoring='roc_auc',cv=5)\n",
    "gs.fit(x_data, y_data)\n",
    "gs.best_params_, gs.best_score_"
   ]
  },
  {
   "cell_type": "code",
   "execution_count": 159,
   "id": "6177e0a9",
   "metadata": {},
   "outputs": [
    {
     "data": {
      "text/plain": [
       "({'colsample_bytree': 1.0, 'subsample': 0.8}, 0.87101469361723)"
      ]
     },
     "execution_count": 159,
     "metadata": {},
     "output_type": "execute_result"
    }
   ],
   "source": [
    "param_grid = {\n",
    "    'subsample':[*np.arange(0.8,0.9,0.01)],\n",
    "   'colsample_bytree':[*np.arange(0.9,1.0001,0.05)],\n",
    "}\n",
    "gs = GridSearchCV(estimator = XGBClassifier(**params_best), \n",
    "                       param_grid = param_grid, scoring='roc_auc',cv=5)\n",
    "gs.fit(x_data, y_data)\n",
    "gs.best_params_, gs.best_score_"
   ]
  },
  {
   "cell_type": "code",
   "execution_count": 160,
   "id": "95e057bd",
   "metadata": {
    "scrolled": true
   },
   "outputs": [
    {
     "data": {
      "text/plain": [
       "{'n_estimators': 67,\n",
       " 'max_depth': 7,\n",
       " 'eta': 0.03,\n",
       " 'gamma': 1,\n",
       " 'reg_lambda': 3,\n",
       " 'reg_alpha': 0,\n",
       " 'eval_metric': 'auc',\n",
       " 'seed': 1024,\n",
       " 'subsample': 0.8}"
      ]
     },
     "execution_count": 160,
     "metadata": {},
     "output_type": "execute_result"
    }
   ],
   "source": [
    "# colsample_bytree默认值最好，可以不调（因为本身我们之前就去除了不重要特征）\n",
    "params_best['subsample'] = gs.best_params_['subsample']\n",
    "params_best"
   ]
  },
  {
   "cell_type": "code",
   "execution_count": 161,
   "id": "c5da1b19",
   "metadata": {},
   "outputs": [
    {
     "data": {
      "text/plain": [
       "0.8239700374531835"
      ]
     },
     "execution_count": 161,
     "metadata": {},
     "output_type": "execute_result"
    }
   ],
   "source": [
    "# 看一下测试集分数\n",
    "xgbc = XGBClassifier(**params_best)\n",
    "xgbc.fit(x_train,y_train)\n",
    "xgbc.score(x_test,y_test)"
   ]
  },
  {
   "cell_type": "markdown",
   "id": "cda41687",
   "metadata": {},
   "source": [
    "### 步骤五：调正则项\n",
    "gamma本身可以很好防止过拟合，正则项重要性不大"
   ]
  },
  {
   "cell_type": "code",
   "execution_count": 167,
   "id": "fe57f63f",
   "metadata": {},
   "outputs": [
    {
     "data": {
      "text/plain": [
       "({'reg_lambda': 1.8}, 0.8722642643379286)"
      ]
     },
     "execution_count": 167,
     "metadata": {},
     "output_type": "execute_result"
    }
   ],
   "source": [
    "param_grid = {\n",
    "   'reg_lambda':[*np.arange(0,4,0.2)]\n",
    "}\n",
    "gs = GridSearchCV(estimator = XGBClassifier(**params_best), \n",
    "                       param_grid = param_grid, scoring='roc_auc',cv=5)\n",
    "gs.fit(x_data, y_data)\n",
    "gs.best_params_, gs.best_score_"
   ]
  },
  {
   "cell_type": "code",
   "execution_count": 168,
   "id": "088f3438",
   "metadata": {
    "scrolled": true
   },
   "outputs": [
    {
     "data": {
      "text/plain": [
       "{'n_estimators': 67,\n",
       " 'max_depth': 7,\n",
       " 'eta': 0.03,\n",
       " 'gamma': 1,\n",
       " 'reg_lambda': 1.8,\n",
       " 'reg_alpha': 0,\n",
       " 'eval_metric': 'auc',\n",
       " 'seed': 1024,\n",
       " 'subsample': 0.8}"
      ]
     },
     "execution_count": 168,
     "metadata": {},
     "output_type": "execute_result"
    }
   ],
   "source": [
    "params_best['reg_lambda'] = gs.best_params_['reg_lambda']\n",
    "params_best"
   ]
  },
  {
   "cell_type": "code",
   "execution_count": 174,
   "id": "d4d61d41",
   "metadata": {},
   "outputs": [
    {
     "data": {
      "text/plain": [
       "0.8239700374531835"
      ]
     },
     "execution_count": 174,
     "metadata": {},
     "output_type": "execute_result"
    }
   ],
   "source": [
    "# 看一下测试集分数\n",
    "params_best['reg_lambda'] = 3 # 下降了，所以不调lamda\n",
    "xgbc = XGBClassifier(**params_best)\n",
    "xgbc.fit(x_train,y_train)\n",
    "xgbc.score(x_test,y_test)"
   ]
  },
  {
   "cell_type": "markdown",
   "id": "101e9f34",
   "metadata": {},
   "source": [
    "### 最后再回去调一下 eta和n_estimators"
   ]
  },
  {
   "cell_type": "code",
   "execution_count": 175,
   "id": "77f96a77",
   "metadata": {},
   "outputs": [
    {
     "name": "stdout",
     "output_type": "stream",
     "text": [
      "\n",
      "---eta=0.03---\n",
      "当前树数量：67\n",
      "关于现在这个模型(在训练集上表现)：\n",
      "准确率 : 0.8583\n",
      "AUC 得分 : 0.903605\n",
      "----测试集score:0.8651685393258427---\n",
      "\n",
      "---eta=0.06---\n",
      "当前树数量：67\n",
      "关于现在这个模型(在训练集上表现)：\n",
      "准确率 : 0.8616\n",
      "AUC 得分 : 0.914765\n",
      "----测试集score:0.8614232209737828---\n",
      "\n",
      "---eta=0.09---\n",
      "当前树数量：67\n",
      "关于现在这个模型(在训练集上表现)：\n",
      "准确率 : 0.8616\n",
      "AUC 得分 : 0.918445\n",
      "----测试集score:0.8614232209737828---\n",
      "\n",
      "---eta=0.12---\n",
      "当前树数量：33\n",
      "关于现在这个模型(在训练集上表现)：\n",
      "准确率 : 0.8594\n",
      "AUC 得分 : 0.913519\n",
      "----测试集score:0.8614232209737828---\n",
      "\n",
      "---eta=0.15---\n",
      "当前树数量：10\n",
      "关于现在这个模型(在训练集上表现)：\n",
      "准确率 : 0.856\n",
      "AUC 得分 : 0.885160\n",
      "----测试集score:0.8576779026217228---\n",
      "\n",
      "---eta=0.18---\n",
      "当前树数量：9\n",
      "关于现在这个模型(在训练集上表现)：\n",
      "准确率 : 0.8583\n",
      "AUC 得分 : 0.886639\n",
      "----测试集score:0.850187265917603---\n",
      "\n",
      "---eta=0.21---\n",
      "当前树数量：10\n",
      "关于现在这个模型(在训练集上表现)：\n",
      "准确率 : 0.8571\n",
      "AUC 得分 : 0.900881\n",
      "----测试集score:0.8539325842696629---\n",
      "\n",
      "---eta=0.24---\n",
      "当前树数量：10\n",
      "关于现在这个模型(在训练集上表现)：\n",
      "准确率 : 0.8583\n",
      "AUC 得分 : 0.904165\n",
      "----测试集score:0.8576779026217228---\n",
      "\n",
      "---eta=0.27---\n",
      "当前树数量：10\n",
      "关于现在这个模型(在训练集上表现)：\n",
      "准确率 : 0.8583\n",
      "AUC 得分 : 0.905631\n",
      "----测试集score:0.8576779026217228---\n",
      "\n",
      "---eta=0.30000000000000004---\n",
      "当前树数量：10\n",
      "关于现在这个模型(在训练集上表现)：\n",
      "准确率 : 0.8583\n",
      "AUC 得分 : 0.905762\n",
      "----测试集score:0.8576779026217228---\n"
     ]
    },
    {
     "data": {
      "text/plain": [
       "{'n_estimators': 67,\n",
       " 'max_depth': 7,\n",
       " 'eta': 0.03,\n",
       " 'gamma': 1,\n",
       " 'reg_lambda': 3,\n",
       " 'reg_alpha': 0,\n",
       " 'eval_metric': 'auc',\n",
       " 'seed': 1024,\n",
       " 'subsample': 0.8}"
      ]
     },
     "execution_count": 175,
     "metadata": {},
     "output_type": "execute_result"
    }
   ],
   "source": [
    "\n",
    "best_xgbc = search_best_xgbc(params_best, x_data, y_data)\n",
    "params_best['n_estimators'] = best_xgbc.n_estimators\n",
    "params_best['eta'] = best_xgbc.get_params()['eta']\n",
    "params_best"
   ]
  },
  {
   "cell_type": "code",
   "execution_count": 176,
   "id": "3122cb41",
   "metadata": {},
   "outputs": [
    {
     "data": {
      "text/plain": [
       "0.8239700374531835"
      ]
     },
     "execution_count": 176,
     "metadata": {},
     "output_type": "execute_result"
    }
   ],
   "source": [
    "# 看一下测试集分数\n",
    "xgbc = XGBClassifier(**params_best)\n",
    "xgbc.fit(x_train,y_train)\n",
    "xgbc.score(x_test,y_test)"
   ]
  },
  {
   "cell_type": "code",
   "execution_count": 181,
   "id": "1fa30a93",
   "metadata": {},
   "outputs": [
    {
     "data": {
      "text/plain": [
       "0.8127340823970037"
      ]
     },
     "execution_count": 181,
     "metadata": {},
     "output_type": "execute_result"
    }
   ],
   "source": [
    "# 改一下seed\n",
    "params_best['seed'] = 100\n",
    "xgbc = XGBClassifier(**params_best)\n",
    "xgbc.fit(x_train,y_train)\n",
    "xgbc.score(x_test,y_test)"
   ]
  },
  {
   "cell_type": "code",
   "execution_count": null,
   "id": "74d68517",
   "metadata": {},
   "outputs": [],
   "source": []
  }
 ],
 "metadata": {
  "kernelspec": {
   "display_name": "Python 3 (ipykernel)",
   "language": "python",
   "name": "python3"
  },
  "language_info": {
   "codemirror_mode": {
    "name": "ipython",
    "version": 3
   },
   "file_extension": ".py",
   "mimetype": "text/x-python",
   "name": "python",
   "nbconvert_exporter": "python",
   "pygments_lexer": "ipython3",
   "version": "3.9.13"
  }
 },
 "nbformat": 4,
 "nbformat_minor": 5
}

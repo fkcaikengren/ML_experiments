{
 "cells": [
  {
   "cell_type": "code",
   "execution_count": 16,
   "id": "751173f1",
   "metadata": {},
   "outputs": [],
   "source": [
    "import numpy as np\n",
    "import pandas as pd\n",
    "import matplotlib.pyplot as plt\n",
    "\n",
    "%matplotlib inline\n",
    "from sklearn.linear_model import LinearRegression as LR, Ridge, RidgeCV, Lasso, LassoCV\n",
    "from sklearn.metrics import r2_score, mean_squared_error as MSE\n",
    "from sklearn.model_selection import train_test_split, cross_val_score\n",
    "from sklearn.datasets import fetch_california_housing\n",
    "from sklearn.decomposition import PCA"
   ]
  },
  {
   "cell_type": "code",
   "execution_count": 2,
   "id": "5623810e",
   "metadata": {},
   "outputs": [],
   "source": [
    "housing = fetch_california_housing()\n",
    "X = pd.DataFrame(housing.data, columns=housing.feature_names)\n",
    "y = pd.DataFrame(housing.target)"
   ]
  },
  {
   "cell_type": "code",
   "execution_count": 3,
   "id": "8a42d1bd",
   "metadata": {},
   "outputs": [
    {
     "data": {
      "text/html": [
       "<div>\n",
       "<style scoped>\n",
       "    .dataframe tbody tr th:only-of-type {\n",
       "        vertical-align: middle;\n",
       "    }\n",
       "\n",
       "    .dataframe tbody tr th {\n",
       "        vertical-align: top;\n",
       "    }\n",
       "\n",
       "    .dataframe thead th {\n",
       "        text-align: right;\n",
       "    }\n",
       "</style>\n",
       "<table border=\"1\" class=\"dataframe\">\n",
       "  <thead>\n",
       "    <tr style=\"text-align: right;\">\n",
       "      <th></th>\n",
       "      <th>MedInc</th>\n",
       "      <th>HouseAge</th>\n",
       "      <th>AveRooms</th>\n",
       "      <th>AveBedrms</th>\n",
       "      <th>Population</th>\n",
       "      <th>AveOccup</th>\n",
       "      <th>Latitude</th>\n",
       "      <th>Longitude</th>\n",
       "    </tr>\n",
       "  </thead>\n",
       "  <tbody>\n",
       "    <tr>\n",
       "      <th>0</th>\n",
       "      <td>8.3252</td>\n",
       "      <td>41.0</td>\n",
       "      <td>6.984127</td>\n",
       "      <td>1.023810</td>\n",
       "      <td>322.0</td>\n",
       "      <td>2.555556</td>\n",
       "      <td>37.88</td>\n",
       "      <td>-122.23</td>\n",
       "    </tr>\n",
       "    <tr>\n",
       "      <th>1</th>\n",
       "      <td>8.3014</td>\n",
       "      <td>21.0</td>\n",
       "      <td>6.238137</td>\n",
       "      <td>0.971880</td>\n",
       "      <td>2401.0</td>\n",
       "      <td>2.109842</td>\n",
       "      <td>37.86</td>\n",
       "      <td>-122.22</td>\n",
       "    </tr>\n",
       "    <tr>\n",
       "      <th>2</th>\n",
       "      <td>7.2574</td>\n",
       "      <td>52.0</td>\n",
       "      <td>8.288136</td>\n",
       "      <td>1.073446</td>\n",
       "      <td>496.0</td>\n",
       "      <td>2.802260</td>\n",
       "      <td>37.85</td>\n",
       "      <td>-122.24</td>\n",
       "    </tr>\n",
       "    <tr>\n",
       "      <th>3</th>\n",
       "      <td>5.6431</td>\n",
       "      <td>52.0</td>\n",
       "      <td>5.817352</td>\n",
       "      <td>1.073059</td>\n",
       "      <td>558.0</td>\n",
       "      <td>2.547945</td>\n",
       "      <td>37.85</td>\n",
       "      <td>-122.25</td>\n",
       "    </tr>\n",
       "    <tr>\n",
       "      <th>4</th>\n",
       "      <td>3.8462</td>\n",
       "      <td>52.0</td>\n",
       "      <td>6.281853</td>\n",
       "      <td>1.081081</td>\n",
       "      <td>565.0</td>\n",
       "      <td>2.181467</td>\n",
       "      <td>37.85</td>\n",
       "      <td>-122.25</td>\n",
       "    </tr>\n",
       "    <tr>\n",
       "      <th>...</th>\n",
       "      <td>...</td>\n",
       "      <td>...</td>\n",
       "      <td>...</td>\n",
       "      <td>...</td>\n",
       "      <td>...</td>\n",
       "      <td>...</td>\n",
       "      <td>...</td>\n",
       "      <td>...</td>\n",
       "    </tr>\n",
       "    <tr>\n",
       "      <th>20635</th>\n",
       "      <td>1.5603</td>\n",
       "      <td>25.0</td>\n",
       "      <td>5.045455</td>\n",
       "      <td>1.133333</td>\n",
       "      <td>845.0</td>\n",
       "      <td>2.560606</td>\n",
       "      <td>39.48</td>\n",
       "      <td>-121.09</td>\n",
       "    </tr>\n",
       "    <tr>\n",
       "      <th>20636</th>\n",
       "      <td>2.5568</td>\n",
       "      <td>18.0</td>\n",
       "      <td>6.114035</td>\n",
       "      <td>1.315789</td>\n",
       "      <td>356.0</td>\n",
       "      <td>3.122807</td>\n",
       "      <td>39.49</td>\n",
       "      <td>-121.21</td>\n",
       "    </tr>\n",
       "    <tr>\n",
       "      <th>20637</th>\n",
       "      <td>1.7000</td>\n",
       "      <td>17.0</td>\n",
       "      <td>5.205543</td>\n",
       "      <td>1.120092</td>\n",
       "      <td>1007.0</td>\n",
       "      <td>2.325635</td>\n",
       "      <td>39.43</td>\n",
       "      <td>-121.22</td>\n",
       "    </tr>\n",
       "    <tr>\n",
       "      <th>20638</th>\n",
       "      <td>1.8672</td>\n",
       "      <td>18.0</td>\n",
       "      <td>5.329513</td>\n",
       "      <td>1.171920</td>\n",
       "      <td>741.0</td>\n",
       "      <td>2.123209</td>\n",
       "      <td>39.43</td>\n",
       "      <td>-121.32</td>\n",
       "    </tr>\n",
       "    <tr>\n",
       "      <th>20639</th>\n",
       "      <td>2.3886</td>\n",
       "      <td>16.0</td>\n",
       "      <td>5.254717</td>\n",
       "      <td>1.162264</td>\n",
       "      <td>1387.0</td>\n",
       "      <td>2.616981</td>\n",
       "      <td>39.37</td>\n",
       "      <td>-121.24</td>\n",
       "    </tr>\n",
       "  </tbody>\n",
       "</table>\n",
       "<p>20640 rows × 8 columns</p>\n",
       "</div>"
      ],
      "text/plain": [
       "       MedInc  HouseAge  AveRooms  AveBedrms  Population  AveOccup  Latitude  \\\n",
       "0      8.3252      41.0  6.984127   1.023810       322.0  2.555556     37.88   \n",
       "1      8.3014      21.0  6.238137   0.971880      2401.0  2.109842     37.86   \n",
       "2      7.2574      52.0  8.288136   1.073446       496.0  2.802260     37.85   \n",
       "3      5.6431      52.0  5.817352   1.073059       558.0  2.547945     37.85   \n",
       "4      3.8462      52.0  6.281853   1.081081       565.0  2.181467     37.85   \n",
       "...       ...       ...       ...        ...         ...       ...       ...   \n",
       "20635  1.5603      25.0  5.045455   1.133333       845.0  2.560606     39.48   \n",
       "20636  2.5568      18.0  6.114035   1.315789       356.0  3.122807     39.49   \n",
       "20637  1.7000      17.0  5.205543   1.120092      1007.0  2.325635     39.43   \n",
       "20638  1.8672      18.0  5.329513   1.171920       741.0  2.123209     39.43   \n",
       "20639  2.3886      16.0  5.254717   1.162264      1387.0  2.616981     39.37   \n",
       "\n",
       "       Longitude  \n",
       "0        -122.23  \n",
       "1        -122.22  \n",
       "2        -122.24  \n",
       "3        -122.25  \n",
       "4        -122.25  \n",
       "...          ...  \n",
       "20635    -121.09  \n",
       "20636    -121.21  \n",
       "20637    -121.22  \n",
       "20638    -121.32  \n",
       "20639    -121.24  \n",
       "\n",
       "[20640 rows x 8 columns]"
      ]
     },
     "execution_count": 3,
     "metadata": {},
     "output_type": "execute_result"
    }
   ],
   "source": [
    "\"\"\"\n",
    "MedInc：该街区住户的收入中位数\n",
    "HouseAge：该街区房屋使用年代的中位数\n",
    "AveRooms：该街区平均的房间数目\n",
    "AveBedrms：该街区平均的卧室数目\n",
    "Population：街区人口\n",
    "AveOccup：平均入住率\n",
    "Latitude：街区的纬度\n",
    "Longitude：街区的经度\n",
    "\n",
    "target: 该街区房价中位数\n",
    "\"\"\"\n",
    "X"
   ]
  },
  {
   "cell_type": "code",
   "execution_count": 4,
   "id": "593347e2",
   "metadata": {},
   "outputs": [],
   "source": [
    "Xtrain, Xtest, Ytrain, Ytest = train_test_split(X,y,test_size=0.3,random_state=42)"
   ]
  },
  {
   "cell_type": "markdown",
   "id": "ee47f4ae",
   "metadata": {},
   "source": [
    "## 1. 多元线性回归模型\n",
    "在机器学习中，线性回归的参数可以通过两种主要方法计算得到：最小二乘法和梯度下降。\n",
    "1. 最小二乘法：这是一种解析方法，通过求解正规方程（Normal Equation）直接得到参数的最优解。   \n",
    "2. 梯度下降：这是一种迭代优化方法，通过不断更新参数以逐步减小损失函数（例如均方误差）的值。梯度下降在大数据集和复杂模型中更为常用，因为它可以处理最小二乘法难以处理的问题。\n",
    "\n",
    "最小二乘法优缺点：\n",
    "\n",
    "1) 一次计算即可得到最优解(全局最优解)，但极小值为全局最小值；\n",
    "\n",
    "2) 当特征数量 n 大于10000时，因计算矩阵逆的时间复杂度O(n^3)会很大；\n",
    "\n",
    "3) 只适用于线性模型，不适用于逻辑回归等其他模型。"
   ]
  },
  {
   "cell_type": "code",
   "execution_count": 19,
   "id": "50637643",
   "metadata": {
    "scrolled": true
   },
   "outputs": [
    {
     "data": {
      "text/plain": [
       "array([[0.72604907],\n",
       "       [1.76743383],\n",
       "       [2.71092161],\n",
       "       ...,\n",
       "       [2.07465531],\n",
       "       [1.57371395],\n",
       "       [1.82744133]])"
      ]
     },
     "execution_count": 19,
     "metadata": {},
     "output_type": "execute_result"
    }
   ],
   "source": [
    "lr = LR().fit(Xtrain, Ytrain)\n",
    "Ypred = lr.predict(Xtest)\n",
    "Ypred"
   ]
  },
  {
   "cell_type": "markdown",
   "id": "af5f2b86",
   "metadata": {},
   "source": [
    "\n",
    "<b>属性 coef_ 和 intercept_</b>    \n",
    "y = w1*x1 + w2*x2 + ... + wn*xn + b   \n",
    "coef_ 就是特征系数 w1,w2,...wn   \n",
    "intercept_ 就是截距 b\n"
   ]
  },
  {
   "cell_type": "code",
   "execution_count": 23,
   "id": "66324a3b",
   "metadata": {},
   "outputs": [
    {
     "name": "stdout",
     "output_type": "stream",
     "text": [
      "[[ 4.45822565e-01  9.68186799e-03 -1.22095112e-01  7.78599557e-01\n",
      "  -7.75740400e-07 -3.37002667e-03 -4.18536747e-01 -4.33687976e-01]]\n",
      "[-37.05624133]\n"
     ]
    }
   ],
   "source": [
    "print(lr.coef_)\n",
    "print(lr.intercept_)"
   ]
  },
  {
   "cell_type": "code",
   "execution_count": 22,
   "id": "6a3441b2",
   "metadata": {},
   "outputs": [
    {
     "data": {
      "text/plain": [
       "array([-37.05624133])"
      ]
     },
     "execution_count": 22,
     "metadata": {},
     "output_type": "execute_result"
    }
   ],
   "source": [
    "lr.intercept_"
   ]
  },
  {
   "attachments": {
    "image.png": {
     "image/png": "[encoded data removed]"
    }
   },
   "cell_type": "markdown",
   "id": "31abb130",
   "metadata": {},
   "source": [
    "## 2. 线性回归评估指标\n",
    "\n",
    "MSE   \n",
    "R<sup>2</sup>   \n",
    "![image.png](attachment:image.png)  \n",
    "在R<sup>2</sup> 中，分子是真实值和预测值之差的\n",
    "差值，也就是我们的模型没有捕获到的信息总量，分母是真实标签所带的信息量，所以其衡量的是1 - 我们的模型没\n",
    "有捕获到的信息量占真实标签中所带的信息量的比例，所以， 越接近1越好"
   ]
  },
  {
   "cell_type": "code",
   "execution_count": 24,
   "id": "61be0143",
   "metadata": {},
   "outputs": [
    {
     "data": {
      "text/plain": [
       "0.5305677824766752"
      ]
     },
     "execution_count": 24,
     "metadata": {},
     "output_type": "execute_result"
    }
   ],
   "source": [
    "MSE(Ytest,Ypred)"
   ]
  },
  {
   "cell_type": "code",
   "execution_count": 25,
   "id": "a3d08a20",
   "metadata": {
    "scrolled": false
   },
   "outputs": [
    {
     "name": "stdout",
     "output_type": "stream",
     "text": [
      "0.5957702326061664\n"
     ]
    },
    {
     "data": {
      "text/plain": [
       "0.5957702326061664"
      ]
     },
     "execution_count": 25,
     "metadata": {},
     "output_type": "execute_result"
    }
   ],
   "source": [
    "print(lr.score(Xtest, Ytest)) # 使用的R方评估\n",
    "r2_score(Ytest,Ypred) \n"
   ]
  },
  {
   "cell_type": "markdown",
   "id": "f6bf19f9",
   "metadata": {},
   "source": [
    "可以看出MSE不是很大，但R2也不是很高（一般0.8以上才算比较好）。说明一部分数据很好拟合，但没有很好的找出规律信息（比如数据分布规律、单调性）   \n",
    "\n",
    "另外，当R2为负数时，表明拟合效果糟糕到不能用了。一方面检查数据处理是否出问题了，数据处理步骤正确则表明当前严重欠拟合！"
   ]
  },
  {
   "cell_type": "code",
   "execution_count": 41,
   "id": "7b03444f",
   "metadata": {},
   "outputs": [
    {
     "data": {
      "text/plain": [
       "<matplotlib.legend.Legend at 0x1d2784b2fd0>"
      ]
     },
     "execution_count": 41,
     "metadata": {},
     "output_type": "execute_result"
    },
    {
     "data": {
      "image/png": "[encoded data removed]",
      "text/plain": [
       "<Figure size 1000x500 with 1 Axes>"
      ]
     },
     "metadata": {},
     "output_type": "display_data"
    }
   ],
   "source": [
    "# 绘制预测房价的变化规律\n",
    "plt.figure(figsize=(10,5))\n",
    "y_test_list = Ytest.values.flatten()\n",
    "y_pred_list = Ypred.flatten()\n",
    "plt.plot(range(len(y_test_list)),sorted(y_test_list),c=\"black\",label= \"Data\")\n",
    "plt.plot(range(len(y_pred_list)),sorted(y_pred_list),c=\"red\",label = \"Predict\")\n",
    "plt.legend()"
   ]
  },
  {
   "cell_type": "markdown",
   "id": "52242867",
   "metadata": {},
   "source": [
    "## 3. 多重共线性：岭回归与Lasso\n",
    "\n",
    "多重共线性：高度相关的特征列向量之间，会形成“共线”，特征列向量之间的这种高度相关性称为多重共线性。   \n",
    "\n",
    "\n",
    "多重共线性是指在多元线性回归分析中，自变量之间存在较高的相关性。这会对回归分析产生以下影响：  \n",
    "1. 参数估计不稳定：多重共线性会导致回归系数的估计值变得不稳定，即使数据中的小变化也可能导致系数估计值发生较大的变化。这使得模型难以解释和应用。\n",
    "2. 系数解释困难：由于自变量之间的高相关性，很难确定哪个自变量对因变量的影响更大。这使得模型的解释变得复杂，不易理解。\n",
    "3. 降低模型准确性：多重共线性可能导致模型的预测准确性降低，因为高度相关的自变量可能会相互抵消彼此的影响。 \n",
    "4. 在线性回归模型中，多重共线性使得参数不能通过最小二乘法求得，只能使用梯度下降。\n",
    "\n",
    "\n",
    "解决办法：   \n",
    "+ 特征选取，相关性分析，筛选除去高度相关的特征\n",
    "+ PCA降维\n",
    "+ 岭回归或LASSO"
   ]
  },
  {
   "cell_type": "code",
   "execution_count": 46,
   "id": "1bb43010",
   "metadata": {},
   "outputs": [
    {
     "data": {
      "text/plain": [
       "[<matplotlib.lines.Line2D at 0x1d27925fa90>]"
      ]
     },
     "execution_count": 46,
     "metadata": {},
     "output_type": "execute_result"
    },
    {
     "data": {
      "image/png": "[encoded data removed]",
      "text/plain": [
       "<Figure size 640x480 with 1 Axes>"
      ]
     },
     "metadata": {},
     "output_type": "display_data"
    }
   ],
   "source": [
    "alpharange = np.arange(0,1001,50)\n",
    "ridge_scores, lr_scores = [], []\n",
    "\n",
    "lr = LinearRegression()\n",
    "lr_socre = cross_val_score(lr,X,y,cv=5,scoring = \"r2\").mean()\n",
    "for alpha in alpharange:\n",
    "    ridge = Ridge(alpha=alpha)\n",
    "    ridge_score = cross_val_score(ridge,X,y,cv=5,scoring = \"r2\").mean()\n",
    "    ridge_scores.append(ridge_score)\n",
    "    lr_scores.append(lr_socre)\n",
    "\n",
    "\n",
    "plt.plot(alpharange, ridge_scores, color=\"red\",label=\"Ridge\")\n",
    "plt.plot(alpharange, lr_scores, color=\"orange\",label=\"LR\")"
   ]
  },
  {
   "cell_type": "markdown",
   "id": "59514598",
   "metadata": {},
   "source": [
    "当特征系数w之间差别很大，分散，使用Ridge可缩小系数值的差距。\n",
    "然而当alpha过大会导致特征系数集中，体现不出特征权重。    \n",
    "房价数据集中，正则化带来的准确率提升不大，解释：本来特征系数w之前的差距不大，"
   ]
  },
  {
   "cell_type": "markdown",
   "id": "9031e4c9",
   "metadata": {},
   "source": [
    "<b>方差膨胀因子</b>   \n",
    "其中$R^2_i$是将第i个变量$x_i$作为因变量，其他k-1个变量作为自变量进行线性回归获得的$R^2$\n",
    "，且令 $ VIF_i=\\frac{1}{1−R^2_i}$   \n",
    "\n",
    "$R^2_i$ < 1, 当$R^2_i$越接近1，说明$x_i$可其他向量（变量）线性表出。\n",
    "\n",
    "$VIF_i$ > 5 (或 $VIF_i$ > 10) 说明$x_i$严重多重共线"
   ]
  },
  {
   "cell_type": "code",
   "execution_count": 49,
   "id": "a20877a5",
   "metadata": {},
   "outputs": [
    {
     "data": {
      "text/plain": [
       "7.12328507578429"
      ]
     },
     "execution_count": 49,
     "metadata": {},
     "output_type": "execute_result"
    }
   ],
   "source": [
    "# 方差膨胀因子\n",
    "from statsmodels.stats.outliers_influence import variance_inflation_factor\n",
    "\n",
    "#计算第2个变量的(第二列)的方差膨胀因子，注意python的计数是从0开始的，所以第二个参数应该是1\n",
    "variance_inflation_factor(Xtrain, 1)   "
   ]
  },
  {
   "cell_type": "code",
   "execution_count": 58,
   "id": "01088dfb",
   "metadata": {},
   "outputs": [
    {
     "name": "stdout",
     "output_type": "stream",
     "text": [
      "MedInc: 11.613264651525688\n",
      "HouseAge: 7.12328507578429\n",
      "AveRooms: 46.48592287427087\n",
      "AveBedrms: 48.05606548520666\n",
      "Population: 2.91088338109827\n",
      "AveOccup: 1.0735574916298196\n",
      "Latitude: 560.3954732824286\n",
      "Longitude: 640.0979730973129\n"
     ]
    }
   ],
   "source": [
    "VIF_list = [variance_inflation_factor(Xtrain, i) for i in range(Xtrain.shape[1])]\n",
    "for col, VIF_i in zip(Xtrain.columns.to_list(), VIF_list):\n",
    "    print(f\"{col}: {VIF_i}\")"
   ]
  },
  {
   "cell_type": "code",
   "execution_count": 89,
   "id": "276d49d6",
   "metadata": {},
   "outputs": [
    {
     "name": "stdout",
     "output_type": "stream",
     "text": [
      "[9.99789327e-01 1.13281110e-04 8.32834638e-05]\n"
     ]
    },
    {
     "data": {
      "text/html": [
       "<div>\n",
       "<style scoped>\n",
       "    .dataframe tbody tr th:only-of-type {\n",
       "        vertical-align: middle;\n",
       "    }\n",
       "\n",
       "    .dataframe tbody tr th {\n",
       "        vertical-align: top;\n",
       "    }\n",
       "\n",
       "    .dataframe thead th {\n",
       "        text-align: right;\n",
       "    }\n",
       "</style>\n",
       "<table border=\"1\" class=\"dataframe\">\n",
       "  <thead>\n",
       "    <tr style=\"text-align: right;\">\n",
       "      <th></th>\n",
       "      <th>Population</th>\n",
       "    </tr>\n",
       "  </thead>\n",
       "  <tbody>\n",
       "    <tr>\n",
       "      <th>0</th>\n",
       "      <td>322.0</td>\n",
       "    </tr>\n",
       "    <tr>\n",
       "      <th>1</th>\n",
       "      <td>2401.0</td>\n",
       "    </tr>\n",
       "    <tr>\n",
       "      <th>2</th>\n",
       "      <td>496.0</td>\n",
       "    </tr>\n",
       "    <tr>\n",
       "      <th>3</th>\n",
       "      <td>558.0</td>\n",
       "    </tr>\n",
       "    <tr>\n",
       "      <th>4</th>\n",
       "      <td>565.0</td>\n",
       "    </tr>\n",
       "    <tr>\n",
       "      <th>...</th>\n",
       "      <td>...</td>\n",
       "    </tr>\n",
       "    <tr>\n",
       "      <th>20635</th>\n",
       "      <td>845.0</td>\n",
       "    </tr>\n",
       "    <tr>\n",
       "      <th>20636</th>\n",
       "      <td>356.0</td>\n",
       "    </tr>\n",
       "    <tr>\n",
       "      <th>20637</th>\n",
       "      <td>1007.0</td>\n",
       "    </tr>\n",
       "    <tr>\n",
       "      <th>20638</th>\n",
       "      <td>741.0</td>\n",
       "    </tr>\n",
       "    <tr>\n",
       "      <th>20639</th>\n",
       "      <td>1387.0</td>\n",
       "    </tr>\n",
       "  </tbody>\n",
       "</table>\n",
       "<p>20640 rows × 1 columns</p>\n",
       "</div>"
      ],
      "text/plain": [
       "       Population\n",
       "0           322.0\n",
       "1          2401.0\n",
       "2           496.0\n",
       "3           558.0\n",
       "4           565.0\n",
       "...           ...\n",
       "20635       845.0\n",
       "20636       356.0\n",
       "20637      1007.0\n",
       "20638       741.0\n",
       "20639      1387.0\n",
       "\n",
       "[20640 rows x 1 columns]"
      ]
     },
     "execution_count": 89,
     "metadata": {},
     "output_type": "execute_result"
    }
   ],
   "source": [
    "# X_drop = X.drop(columns=['MedInc', 'HouseAge',  'AveRooms', 'AveBedrms', 'Latitude', 'Longitude'])\n",
    "pca = PCA(n_components=3)\n",
    "x_drop = pca.fit_transform(X)\n",
    "print(pca.explained_variance_ratio_)  # 无论是手动删除相关特征，还是采用PCA，最终的MSE和R2并没有下降\n",
    "X_drop"
   ]
  },
  {
   "cell_type": "code",
   "execution_count": 78,
   "id": "dd921347",
   "metadata": {},
   "outputs": [],
   "source": [
    "Xtrain_drop, Xtest_drop, Ytrain_drop, Ytest_drop = train_test_split(X,y,test_size=0.3,random_state=42)"
   ]
  },
  {
   "cell_type": "code",
   "execution_count": 79,
   "id": "b278a78b",
   "metadata": {},
   "outputs": [
    {
     "data": {
      "text/plain": [
       "array([[0.72604907],\n",
       "       [1.76743383],\n",
       "       [2.71092161],\n",
       "       ...,\n",
       "       [2.07465531],\n",
       "       [1.57371395],\n",
       "       [1.82744133]])"
      ]
     },
     "execution_count": 79,
     "metadata": {},
     "output_type": "execute_result"
    }
   ],
   "source": [
    "lr = LR().fit(Xtrain_drop, Ytrain_drop)\n",
    "Ypred_drop = lr.predict(Xtest)\n",
    "Ypred_drop"
   ]
  },
  {
   "cell_type": "code",
   "execution_count": 80,
   "id": "9ae9e8e0",
   "metadata": {},
   "outputs": [
    {
     "name": "stdout",
     "output_type": "stream",
     "text": [
      "0.5305677824766752\n",
      "0.5957702326061664\n"
     ]
    }
   ],
   "source": [
    "print(MSE(Ytest_drop, Ypred_drop))\n",
    "print(r2_score(Ytest_drop, Ypred_drop))"
   ]
  },
  {
   "cell_type": "markdown",
   "id": "ae167483",
   "metadata": {},
   "source": [
    "##### 使用Ridge回归"
   ]
  },
  {
   "cell_type": "markdown",
   "id": "99b042cf",
   "metadata": {},
   "source": [
    "选取最佳正则化参数"
   ]
  },
  {
   "cell_type": "code",
   "execution_count": 95,
   "id": "0dda5c81",
   "metadata": {},
   "outputs": [
    {
     "data": {
      "text/plain": [
       "0.606025176733844"
      ]
     },
     "execution_count": 95,
     "metadata": {},
     "output_type": "execute_result"
    }
   ],
   "source": [
    "Ridge_ = RidgeCV(alphas=np.arange(1,1001,100)\n",
    "                #,scoring=\"neg_mean_squared_error\" # 默认R2\n",
    "                 ,store_cv_values=True\n",
    "                 #,cv=5  # 默认采用留一法（计算成本高）\n",
    "               ).fit(X, y)\n",
    "Ridge_.score(X,y)"
   ]
  },
  {
   "cell_type": "code",
   "execution_count": 101,
   "id": "78675da0",
   "metadata": {},
   "outputs": [
    {
     "name": "stdout",
     "output_type": "stream",
     "text": [
      "(20640, 1, 10)\n"
     ]
    },
    {
     "data": {
      "text/plain": [
       "array([[0.52823795, 0.52787439, 0.52807763, 0.52855759, 0.52917958,\n",
       "        0.52987689, 0.53061486, 0.53137481, 0.53214638, 0.53292369]])"
      ]
     },
     "execution_count": 101,
     "metadata": {},
     "output_type": "execute_result"
    }
   ],
   "source": [
    "#结构是 (n_samples, n_alphas)\n",
    "print(Ridge_.cv_values_.shape) \n",
    "#进行平均后可以查看每个正则化系数取值下的交叉验证结果\n",
    "Ridge_.cv_values_.mean(axis=0)\n"
   ]
  },
  {
   "cell_type": "code",
   "execution_count": 92,
   "id": "c8180c25",
   "metadata": {},
   "outputs": [
    {
     "data": {
      "text/plain": [
       "101"
      ]
     },
     "execution_count": 92,
     "metadata": {},
     "output_type": "execute_result"
    }
   ],
   "source": [
    "Ridge_.alpha_ #最佳alpha"
   ]
  },
  {
   "cell_type": "code",
   "execution_count": 104,
   "id": "4bfa100e",
   "metadata": {},
   "outputs": [
    {
     "data": {
      "text/plain": [
       "103"
      ]
     },
     "execution_count": 104,
     "metadata": {},
     "output_type": "execute_result"
    }
   ],
   "source": [
    "Ridge_ = RidgeCV(alphas=np.arange(50,151,1)\n",
    "                #,scoring=\"neg_mean_squared_error\" # 默认R2\n",
    "                 ,store_cv_values=True\n",
    "                 #,cv=5  # 默认采用留一法（计算成本高）\n",
    "               ).fit(X, y)\n",
    "Ridge_.alpha_ #最佳alpha"
   ]
  },
  {
   "cell_type": "markdown",
   "id": "324ea3c7",
   "metadata": {},
   "source": [
    "使用Ridge Regression建模"
   ]
  },
  {
   "cell_type": "code",
   "execution_count": 106,
   "id": "d4e8c576",
   "metadata": {},
   "outputs": [
    {
     "name": "stdout",
     "output_type": "stream",
     "text": [
      "0.5265171022273988\n",
      "0.5988563708697987\n"
     ]
    }
   ],
   "source": [
    "ridge = Ridge(alpha=103)\n",
    "ridge.fit(Xtrain, Ytrain)\n",
    "Ypred_ridge = ridge.predict(Xtest)\n",
    "print(MSE(Ytest, Ypred_ridge))\n",
    "print(r2_score(Ytest, Ypred_ridge))  \n",
    "\n",
    "# 使用Ridge Regression后，准确率有小幅度所提升"
   ]
  },
  {
   "cell_type": "markdown",
   "id": "1eba71ef",
   "metadata": {},
   "source": [
    "##### 使用Lasso回归  \n",
    "不同于Ridge Regression，Lasso对alpha十分敏感，并且取值范围空间很小"
   ]
  },
  {
   "cell_type": "code",
   "execution_count": 19,
   "id": "5852ef0f",
   "metadata": {
    "scrolled": true
   },
   "outputs": [
    {
     "data": {
      "text/html": [
       "<div>\n",
       "<style scoped>\n",
       "    .dataframe tbody tr th:only-of-type {\n",
       "        vertical-align: middle;\n",
       "    }\n",
       "\n",
       "    .dataframe tbody tr th {\n",
       "        vertical-align: top;\n",
       "    }\n",
       "\n",
       "    .dataframe thead th {\n",
       "        text-align: right;\n",
       "    }\n",
       "</style>\n",
       "<table border=\"1\" class=\"dataframe\">\n",
       "  <thead>\n",
       "    <tr style=\"text-align: right;\">\n",
       "      <th></th>\n",
       "      <th>0</th>\n",
       "    </tr>\n",
       "  </thead>\n",
       "  <tbody>\n",
       "    <tr>\n",
       "      <th>7061</th>\n",
       "      <td>1.93800</td>\n",
       "    </tr>\n",
       "    <tr>\n",
       "      <th>14689</th>\n",
       "      <td>1.69700</td>\n",
       "    </tr>\n",
       "    <tr>\n",
       "      <th>17323</th>\n",
       "      <td>2.59800</td>\n",
       "    </tr>\n",
       "    <tr>\n",
       "      <th>10056</th>\n",
       "      <td>1.36100</td>\n",
       "    </tr>\n",
       "    <tr>\n",
       "      <th>15750</th>\n",
       "      <td>5.00001</td>\n",
       "    </tr>\n",
       "    <tr>\n",
       "      <th>...</th>\n",
       "      <td>...</td>\n",
       "    </tr>\n",
       "    <tr>\n",
       "      <th>11284</th>\n",
       "      <td>2.29200</td>\n",
       "    </tr>\n",
       "    <tr>\n",
       "      <th>11964</th>\n",
       "      <td>0.97800</td>\n",
       "    </tr>\n",
       "    <tr>\n",
       "      <th>5390</th>\n",
       "      <td>2.22100</td>\n",
       "    </tr>\n",
       "    <tr>\n",
       "      <th>860</th>\n",
       "      <td>2.83500</td>\n",
       "    </tr>\n",
       "    <tr>\n",
       "      <th>15795</th>\n",
       "      <td>3.25000</td>\n",
       "    </tr>\n",
       "  </tbody>\n",
       "</table>\n",
       "<p>14448 rows × 1 columns</p>\n",
       "</div>"
      ],
      "text/plain": [
       "             0\n",
       "7061   1.93800\n",
       "14689  1.69700\n",
       "17323  2.59800\n",
       "10056  1.36100\n",
       "15750  5.00001\n",
       "...        ...\n",
       "11284  2.29200\n",
       "11964  0.97800\n",
       "5390   2.22100\n",
       "860    2.83500\n",
       "15795  3.25000\n",
       "\n",
       "[14448 rows x 1 columns]"
      ]
     },
     "execution_count": 19,
     "metadata": {},
     "output_type": "execute_result"
    }
   ],
   "source": [
    "Ytrain"
   ]
  },
  {
   "cell_type": "markdown",
   "id": "2627eb41",
   "metadata": {},
   "source": [
    "选择最佳正则化参数   \n",
    "自定义alpha范围，logspace(start, end, num, base) 生成num个数，x属于(start,end),y = $base^x$"
   ]
  },
  {
   "cell_type": "code",
   "execution_count": 31,
   "id": "35fed574",
   "metadata": {
    "scrolled": true
   },
   "outputs": [
    {
     "data": {
      "text/plain": [
       "array([1.00000000e-10, 1.09698580e-10, 1.20337784e-10, 1.32008840e-10,\n",
       "       1.44811823e-10, 1.58856513e-10, 1.74263339e-10, 1.91164408e-10,\n",
       "       2.09704640e-10, 2.30043012e-10, 2.52353917e-10, 2.76828663e-10,\n",
       "       3.03677112e-10, 3.33129479e-10, 3.65438307e-10, 4.00880633e-10,\n",
       "       4.39760361e-10, 4.82410870e-10, 5.29197874e-10, 5.80522552e-10,\n",
       "       6.36824994e-10, 6.98587975e-10, 7.66341087e-10, 8.40665289e-10,\n",
       "       9.22197882e-10, 1.01163798e-09, 1.10975250e-09, 1.21738273e-09,\n",
       "       1.33545156e-09, 1.46497140e-09, 1.60705282e-09, 1.76291412e-09,\n",
       "       1.93389175e-09, 2.12145178e-09, 2.32720248e-09, 2.55290807e-09,\n",
       "       2.80050389e-09, 3.07211300e-09, 3.37006433e-09, 3.69691271e-09,\n",
       "       4.05546074e-09, 4.44878283e-09, 4.88025158e-09, 5.35356668e-09,\n",
       "       5.87278661e-09, 6.44236351e-09, 7.06718127e-09, 7.75259749e-09,\n",
       "       8.50448934e-09, 9.32930403e-09, 1.02341140e-08, 1.12266777e-08,\n",
       "       1.23155060e-08, 1.35099352e-08, 1.48202071e-08, 1.62575567e-08,\n",
       "       1.78343088e-08, 1.95639834e-08, 2.14614120e-08, 2.35428641e-08,\n",
       "       2.58261876e-08, 2.83309610e-08, 3.10786619e-08, 3.40928507e-08,\n",
       "       3.73993730e-08, 4.10265811e-08, 4.50055768e-08, 4.93704785e-08,\n",
       "       5.41587138e-08, 5.94113398e-08, 6.51733960e-08, 7.14942899e-08,\n",
       "       7.84282206e-08, 8.60346442e-08, 9.43787828e-08, 1.03532184e-07,\n",
       "       1.13573336e-07, 1.24588336e-07, 1.36671636e-07, 1.49926843e-07,\n",
       "       1.64467618e-07, 1.80418641e-07, 1.97916687e-07, 2.17111795e-07,\n",
       "       2.38168555e-07, 2.61267523e-07, 2.86606762e-07, 3.14403547e-07,\n",
       "       3.44896226e-07, 3.78346262e-07, 4.15040476e-07, 4.55293507e-07,\n",
       "       4.99450512e-07, 5.47890118e-07, 6.01027678e-07, 6.59318827e-07,\n",
       "       7.23263390e-07, 7.93409667e-07, 8.70359136e-07, 9.54771611e-07,\n",
       "       1.04737090e-06, 1.14895100e-06, 1.26038293e-06, 1.38262217e-06,\n",
       "       1.51671689e-06, 1.66381689e-06, 1.82518349e-06, 2.00220037e-06,\n",
       "       2.19638537e-06, 2.40940356e-06, 2.64308149e-06, 2.89942285e-06,\n",
       "       3.18062569e-06, 3.48910121e-06, 3.82749448e-06, 4.19870708e-06,\n",
       "       4.60592204e-06, 5.05263107e-06, 5.54266452e-06, 6.08022426e-06,\n",
       "       6.66991966e-06, 7.31680714e-06, 8.02643352e-06, 8.80488358e-06,\n",
       "       9.65883224e-06, 1.05956018e-05, 1.16232247e-05, 1.27505124e-05,\n",
       "       1.39871310e-05, 1.53436841e-05, 1.68318035e-05, 1.84642494e-05,\n",
       "       2.02550194e-05, 2.22194686e-05, 2.43744415e-05, 2.67384162e-05,\n",
       "       2.93316628e-05, 3.21764175e-05, 3.52970730e-05, 3.87203878e-05,\n",
       "       4.24757155e-05, 4.65952567e-05, 5.11143348e-05, 5.60716994e-05,\n",
       "       6.15098579e-05, 6.74754405e-05, 7.40196000e-05, 8.11984499e-05,\n",
       "       8.90735464e-05, 9.77124154e-05, 1.07189132e-04, 1.17584955e-04,\n",
       "       1.28989026e-04, 1.41499130e-04, 1.55222536e-04, 1.70276917e-04,\n",
       "       1.86791360e-04, 2.04907469e-04, 2.24780583e-04, 2.46581108e-04,\n",
       "       2.70495973e-04, 2.96730241e-04, 3.25508860e-04, 3.57078596e-04,\n",
       "       3.91710149e-04, 4.29700470e-04, 4.71375313e-04, 5.17092024e-04,\n",
       "       5.67242607e-04, 6.22257084e-04, 6.82607183e-04, 7.48810386e-04,\n",
       "       8.21434358e-04, 9.01101825e-04, 9.88495905e-04, 1.08436597e-03,\n",
       "       1.18953407e-03, 1.30490198e-03, 1.43145894e-03, 1.57029012e-03,\n",
       "       1.72258597e-03, 1.88965234e-03, 2.07292178e-03, 2.27396575e-03,\n",
       "       2.49450814e-03, 2.73644000e-03, 3.00183581e-03, 3.29297126e-03,\n",
       "       3.61234270e-03, 3.96268864e-03, 4.34701316e-03, 4.76861170e-03,\n",
       "       5.23109931e-03, 5.73844165e-03, 6.29498899e-03, 6.90551352e-03,\n",
       "       7.57525026e-03, 8.30994195e-03, 9.11588830e-03, 1.00000000e-02])"
      ]
     },
     "execution_count": 31,
     "metadata": {},
     "output_type": "execute_result"
    }
   ],
   "source": [
    "alpha_range = np.logspace(-10,-2,200, base=10)\n",
    "alpha_range"
   ]
  },
  {
   "cell_type": "code",
   "execution_count": 33,
   "id": "38f1dc3b",
   "metadata": {},
   "outputs": [
    {
     "name": "stdout",
     "output_type": "stream",
     "text": [
      "(200,)\n",
      "0.0001289890261253308\n"
     ]
    }
   ],
   "source": [
    "lasso = LassoCV(alphas=alpha_range).fit(Xtrain,Ytrain.values.ravel())\n",
    "print(lasso.alphas_.shape)\n",
    "print(lasso.alpha_)"
   ]
  },
  {
   "cell_type": "markdown",
   "id": "4fcf14f2",
   "metadata": {},
   "source": [
    "建模"
   ]
  },
  {
   "cell_type": "code",
   "execution_count": 36,
   "id": "f6f49d4b",
   "metadata": {},
   "outputs": [
    {
     "name": "stdout",
     "output_type": "stream",
     "text": [
      "0.5304018649259226\n",
      "0.5958966421153045\n"
     ]
    }
   ],
   "source": [
    "lasso = Lasso(alpha=0.0001289890261253308)\n",
    "lasso.fit(Xtrain, Ytrain)\n",
    "Ypred_lasso = lasso.predict(Xtest)\n",
    "print(MSE(Ytest, Ypred_lasso))\n",
    "print(r2_score(Ytest, Ypred_lasso))  #  ridge > lasso效果 > linear"
   ]
  },
  {
   "cell_type": "code",
   "execution_count": 26,
   "id": "d44efcf2",
   "metadata": {},
   "outputs": [
    {
     "data": {
      "text/plain": [
       "32.0903069"
      ]
     },
     "execution_count": 26,
     "metadata": {},
     "output_type": "execute_result"
    }
   ],
   "source": [
    "3.20903069e+01"
   ]
  },
  {
   "cell_type": "markdown",
   "id": "5eb78543",
   "metadata": {},
   "source": [
    "##### 比较岭回归带来的特征系数w的变化"
   ]
  },
  {
   "cell_type": "code",
   "execution_count": 9,
   "id": "b9cfef67",
   "metadata": {},
   "outputs": [
    {
     "data": {
      "text/plain": [
       "array([ 4.45822565e-01,  9.68186799e-03, -1.22095112e-01,  7.78599557e-01,\n",
       "       -7.75740400e-07, -3.37002667e-03, -4.18536747e-01, -4.33687976e-01])"
      ]
     },
     "execution_count": 9,
     "metadata": {},
     "output_type": "execute_result"
    }
   ],
   "source": [
    "lr = LR().fit(Xtrain, Ytrain)\n",
    "w_lr = lr.coef_[0]\n",
    "w_lr"
   ]
  },
  {
   "cell_type": "code",
   "execution_count": 10,
   "id": "57d61142",
   "metadata": {},
   "outputs": [
    {
     "data": {
      "text/plain": [
       "array([ 4.31012897e-01,  9.88493230e-03, -9.37825509e-02,  6.20089200e-01,\n",
       "       -2.11771073e-07, -3.33026604e-03, -4.15874593e-01, -4.28868789e-01])"
      ]
     },
     "execution_count": 10,
     "metadata": {},
     "output_type": "execute_result"
    }
   ],
   "source": [
    "ridge = Ridge(alpha=103).fit(Xtrain, Ytrain)\n",
    "w_ridge = ridge.coef_[0]\n",
    "w_ridge"
   ]
  },
  {
   "cell_type": "code",
   "execution_count": 38,
   "id": "0763a0ef",
   "metadata": {},
   "outputs": [
    {
     "data": {
      "text/plain": [
       "array([ 4.45320536e-01,  9.68964861e-03, -1.21129632e-01,  7.73275648e-01,\n",
       "       -7.50692434e-07, -3.36795040e-03, -4.18373270e-01, -4.33445907e-01])"
      ]
     },
     "execution_count": 38,
     "metadata": {},
     "output_type": "execute_result"
    }
   ],
   "source": [
    "lasso = Lasso(alpha=0.0001289890261253308).fit(Xtrain, Ytrain)\n",
    "w_lasso = lasso.coef_\n",
    "w_lasso"
   ]
  },
  {
   "cell_type": "code",
   "execution_count": 42,
   "id": "9418c3f6",
   "metadata": {},
   "outputs": [
    {
     "name": "stdout",
     "output_type": "stream",
     "text": [
      "0 : MedInc\n",
      "1 : HouseAge\n",
      "2 : AveRooms\n",
      "3 : AveBedrms\n",
      "4 : Population\n",
      "5 : AveOccup\n",
      "6 : Latitude\n",
      "7 : Longitude\n"
     ]
    },
    {
     "data": {
      "image/png": "[encoded data removed]",
      "text/plain": [
       "<Figure size 1000x400 with 1 Axes>"
      ]
     },
     "metadata": {},
     "output_type": "display_data"
    }
   ],
   "source": [
    "plt.figure(figsize=(10,4))\n",
    "ax = plt.subplot()\n",
    "ax.plot(range(len(w_lr)), w_lr, c='black')\n",
    "ax.plot(range(len(w_ridge)), w_ridge, c='red')\n",
    "ax.plot(range(len(w_lasso)), w_lasso, c='blue')\n",
    "ax.legend(['Linear w', 'Ridge w', 'Lasso w'])\n",
    "ax.set_title(\"compare w in best alpha\")\n",
    "for i,col in enumerate(Xtrain.columns):\n",
    "    print(f\"{i} : {col}\")"
   ]
  },
  {
   "cell_type": "code",
   "execution_count": 40,
   "id": "4e51af87",
   "metadata": {},
   "outputs": [
    {
     "data": {
      "text/html": [
       "<div>\n",
       "<style scoped>\n",
       "    .dataframe tbody tr th:only-of-type {\n",
       "        vertical-align: middle;\n",
       "    }\n",
       "\n",
       "    .dataframe tbody tr th {\n",
       "        vertical-align: top;\n",
       "    }\n",
       "\n",
       "    .dataframe thead th {\n",
       "        text-align: right;\n",
       "    }\n",
       "</style>\n",
       "<table border=\"1\" class=\"dataframe\">\n",
       "  <thead>\n",
       "    <tr style=\"text-align: right;\">\n",
       "      <th></th>\n",
       "      <th>MedInc</th>\n",
       "      <th>HouseAge</th>\n",
       "      <th>AveRooms</th>\n",
       "      <th>AveBedrms</th>\n",
       "      <th>Population</th>\n",
       "      <th>AveOccup</th>\n",
       "      <th>Latitude</th>\n",
       "      <th>Longitude</th>\n",
       "    </tr>\n",
       "  </thead>\n",
       "  <tbody>\n",
       "    <tr>\n",
       "      <th>count</th>\n",
       "      <td>14448.000000</td>\n",
       "      <td>14448.000000</td>\n",
       "      <td>14448.000000</td>\n",
       "      <td>14448.000000</td>\n",
       "      <td>14448.000000</td>\n",
       "      <td>14448.000000</td>\n",
       "      <td>14448.000000</td>\n",
       "      <td>14448.000000</td>\n",
       "    </tr>\n",
       "    <tr>\n",
       "      <th>mean</th>\n",
       "      <td>3.876892</td>\n",
       "      <td>28.575374</td>\n",
       "      <td>5.438125</td>\n",
       "      <td>1.098033</td>\n",
       "      <td>1427.927326</td>\n",
       "      <td>3.119236</td>\n",
       "      <td>35.650669</td>\n",
       "      <td>-119.584102</td>\n",
       "    </tr>\n",
       "    <tr>\n",
       "      <th>std</th>\n",
       "      <td>1.904908</td>\n",
       "      <td>12.613634</td>\n",
       "      <td>2.453569</td>\n",
       "      <td>0.447498</td>\n",
       "      <td>1140.225190</td>\n",
       "      <td>12.373636</td>\n",
       "      <td>2.135742</td>\n",
       "      <td>2.002930</td>\n",
       "    </tr>\n",
       "    <tr>\n",
       "      <th>min</th>\n",
       "      <td>0.499900</td>\n",
       "      <td>1.000000</td>\n",
       "      <td>0.888889</td>\n",
       "      <td>0.333333</td>\n",
       "      <td>3.000000</td>\n",
       "      <td>0.692308</td>\n",
       "      <td>32.550000</td>\n",
       "      <td>-124.350000</td>\n",
       "    </tr>\n",
       "    <tr>\n",
       "      <th>25%</th>\n",
       "      <td>2.567225</td>\n",
       "      <td>18.000000</td>\n",
       "      <td>4.448928</td>\n",
       "      <td>1.006783</td>\n",
       "      <td>791.000000</td>\n",
       "      <td>2.430380</td>\n",
       "      <td>33.940000</td>\n",
       "      <td>-121.800000</td>\n",
       "    </tr>\n",
       "    <tr>\n",
       "      <th>50%</th>\n",
       "      <td>3.539100</td>\n",
       "      <td>29.000000</td>\n",
       "      <td>5.232422</td>\n",
       "      <td>1.049492</td>\n",
       "      <td>1168.000000</td>\n",
       "      <td>2.817147</td>\n",
       "      <td>34.270000</td>\n",
       "      <td>-118.510000</td>\n",
       "    </tr>\n",
       "    <tr>\n",
       "      <th>75%</th>\n",
       "      <td>4.758075</td>\n",
       "      <td>37.000000</td>\n",
       "      <td>6.060692</td>\n",
       "      <td>1.100328</td>\n",
       "      <td>1727.000000</td>\n",
       "      <td>3.279135</td>\n",
       "      <td>37.720000</td>\n",
       "      <td>-118.010000</td>\n",
       "    </tr>\n",
       "    <tr>\n",
       "      <th>max</th>\n",
       "      <td>15.000100</td>\n",
       "      <td>52.000000</td>\n",
       "      <td>141.909091</td>\n",
       "      <td>25.636364</td>\n",
       "      <td>35682.000000</td>\n",
       "      <td>1243.333333</td>\n",
       "      <td>41.950000</td>\n",
       "      <td>-114.310000</td>\n",
       "    </tr>\n",
       "  </tbody>\n",
       "</table>\n",
       "</div>"
      ],
      "text/plain": [
       "             MedInc      HouseAge      AveRooms     AveBedrms    Population  \\\n",
       "count  14448.000000  14448.000000  14448.000000  14448.000000  14448.000000   \n",
       "mean       3.876892     28.575374      5.438125      1.098033   1427.927326   \n",
       "std        1.904908     12.613634      2.453569      0.447498   1140.225190   \n",
       "min        0.499900      1.000000      0.888889      0.333333      3.000000   \n",
       "25%        2.567225     18.000000      4.448928      1.006783    791.000000   \n",
       "50%        3.539100     29.000000      5.232422      1.049492   1168.000000   \n",
       "75%        4.758075     37.000000      6.060692      1.100328   1727.000000   \n",
       "max       15.000100     52.000000    141.909091     25.636364  35682.000000   \n",
       "\n",
       "           AveOccup      Latitude     Longitude  \n",
       "count  14448.000000  14448.000000  14448.000000  \n",
       "mean       3.119236     35.650669   -119.584102  \n",
       "std       12.373636      2.135742      2.002930  \n",
       "min        0.692308     32.550000   -124.350000  \n",
       "25%        2.430380     33.940000   -121.800000  \n",
       "50%        2.817147     34.270000   -118.510000  \n",
       "75%        3.279135     37.720000   -118.010000  \n",
       "max     1243.333333     41.950000   -114.310000  "
      ]
     },
     "execution_count": 40,
     "metadata": {},
     "output_type": "execute_result"
    }
   ],
   "source": [
    "Xtrain.describe()"
   ]
  },
  {
   "cell_type": "markdown",
   "id": "0e8f2640",
   "metadata": {},
   "source": [
    "分析： Ridge压缩了w，而Lasso几乎没有对w产生影响（和linear的w保持一致）"
   ]
  },
  {
   "cell_type": "code",
   "execution_count": 51,
   "id": "10642637",
   "metadata": {},
   "outputs": [
    {
     "data": {
      "text/plain": [
       "Text(0.5, 1.0, 'compare compression for w')"
      ]
     },
     "execution_count": 51,
     "metadata": {},
     "output_type": "execute_result"
    },
    {
     "data": {
      "image/png": "[encoded data removed]",
      "text/plain": [
       "<Figure size 1000x400 with 1 Axes>"
      ]
     },
     "metadata": {},
     "output_type": "display_data"
    }
   ],
   "source": [
    "lr = LR().fit(Xtrain, Ytrain)\n",
    "w_lr = lr.coef_[0]\n",
    "ridge = Ridge(alpha=100000).fit(Xtrain, Ytrain)\n",
    "w_ridge = ridge.coef_[0]\n",
    "lasso = Lasso(alpha=0.1).fit(Xtrain, Ytrain)\n",
    "w_lasso = lasso.coef_\n",
    "\n",
    "plt.figure(figsize=(10,4))\n",
    "ax = plt.subplot()\n",
    "ax.plot(range(len(w_lr)), w_lr, c='black')\n",
    "ax.plot(range(len(w_ridge)), w_ridge, c='red')\n",
    "ax.plot(range(len(w_lasso)), w_lasso, c='blue')\n",
    "ax.legend(['Linear w', 'Ridge w', 'Lasso w'])\n",
    "ax.set_title(\"compare compression for w\")"
   ]
  },
  {
   "cell_type": "code",
   "execution_count": 52,
   "id": "49255972",
   "metadata": {},
   "outputs": [
    {
     "data": {
      "text/html": [
       "<div>\n",
       "<style scoped>\n",
       "    .dataframe tbody tr th:only-of-type {\n",
       "        vertical-align: middle;\n",
       "    }\n",
       "\n",
       "    .dataframe tbody tr th {\n",
       "        vertical-align: top;\n",
       "    }\n",
       "\n",
       "    .dataframe thead th {\n",
       "        text-align: right;\n",
       "    }\n",
       "</style>\n",
       "<table border=\"1\" class=\"dataframe\">\n",
       "  <thead>\n",
       "    <tr style=\"text-align: right;\">\n",
       "      <th></th>\n",
       "      <th>0</th>\n",
       "      <th>1</th>\n",
       "      <th>2</th>\n",
       "      <th>3</th>\n",
       "      <th>4</th>\n",
       "      <th>5</th>\n",
       "      <th>6</th>\n",
       "      <th>7</th>\n",
       "    </tr>\n",
       "  </thead>\n",
       "  <tbody>\n",
       "    <tr>\n",
       "      <th>0</th>\n",
       "      <td>0.445823</td>\n",
       "      <td>0.009682</td>\n",
       "      <td>-0.122095</td>\n",
       "      <td>0.778600</td>\n",
       "      <td>-7.757404e-07</td>\n",
       "      <td>-0.003370</td>\n",
       "      <td>-0.418537</td>\n",
       "      <td>-0.433688</td>\n",
       "    </tr>\n",
       "    <tr>\n",
       "      <th>1</th>\n",
       "      <td>0.142870</td>\n",
       "      <td>0.012697</td>\n",
       "      <td>0.023356</td>\n",
       "      <td>-0.004019</td>\n",
       "      <td>1.784373e-05</td>\n",
       "      <td>-0.002670</td>\n",
       "      <td>-0.033947</td>\n",
       "      <td>-0.018867</td>\n",
       "    </tr>\n",
       "    <tr>\n",
       "      <th>2</th>\n",
       "      <td>0.390945</td>\n",
       "      <td>0.015060</td>\n",
       "      <td>-0.000000</td>\n",
       "      <td>0.000000</td>\n",
       "      <td>1.838984e-05</td>\n",
       "      <td>-0.003065</td>\n",
       "      <td>-0.115484</td>\n",
       "      <td>-0.101649</td>\n",
       "    </tr>\n",
       "  </tbody>\n",
       "</table>\n",
       "</div>"
      ],
      "text/plain": [
       "          0         1         2         3             4         5         6  \\\n",
       "0  0.445823  0.009682 -0.122095  0.778600 -7.757404e-07 -0.003370 -0.418537   \n",
       "1  0.142870  0.012697  0.023356 -0.004019  1.784373e-05 -0.002670 -0.033947   \n",
       "2  0.390945  0.015060 -0.000000  0.000000  1.838984e-05 -0.003065 -0.115484   \n",
       "\n",
       "          7  \n",
       "0 -0.433688  \n",
       "1 -0.018867  \n",
       "2 -0.101649  "
      ]
     },
     "execution_count": 52,
     "metadata": {},
     "output_type": "execute_result"
    }
   ],
   "source": [
    "pd.DataFrame([w_lr, w_ridge, w_lasso])"
   ]
  },
  {
   "cell_type": "markdown",
   "id": "6fbd09bc",
   "metadata": {},
   "source": [
    "比较随机变量“2”和“3”， Lasso直接将这两个变量压缩至0，而Ridge始终无法将这两个压缩至0"
   ]
  },
  {
   "cell_type": "markdown",
   "id": "498af9a8",
   "metadata": {},
   "source": [
    "##### 总结\n",
    "1. 回归模型加入正则化后（线性回归/逻辑回归加入Ridge/Lasso）,适中的alpha参数可以防止过拟合，但当alpha过大时将使模型欠拟合\n",
    "2. Ridge能有效消除多重共线性，最终可以采用最小二乘法一步到位求解极值；Lasso多数情况不一定能消除多重共线性，将采用坐标下降法\n",
    "3. Ridge不会把w压缩至0（可以很小）；Lasso可以将w压缩至0，从而进行了特征选择。"
   ]
  },
  {
   "cell_type": "markdown",
   "id": "c7ffb898",
   "metadata": {},
   "source": [
    "## 4.分箱 和 多项式回归 （处理非线性数据）"
   ]
  },
  {
   "cell_type": "code",
   "execution_count": 59,
   "id": "91ba3b4c",
   "metadata": {},
   "outputs": [],
   "source": [
    "\n",
    "from sklearn.tree import DecisionTreeRegressor\n",
    "from sklearn.preprocessing import KBinsDiscretizer"
   ]
  },
  {
   "cell_type": "markdown",
   "id": "6bdb4f2c",
   "metadata": {},
   "source": [
    "##### 分箱的基本原理"
   ]
  },
  {
   "cell_type": "code",
   "execution_count": 108,
   "id": "1a3c921d",
   "metadata": {},
   "outputs": [
    {
     "name": "stdout",
     "output_type": "stream",
     "text": [
      "[[4]\n",
      " [3]\n",
      " [9]\n",
      " [8]\n",
      " [5]\n",
      " [2]\n",
      " [1]\n",
      " [7]\n",
      " [6]]\n"
     ]
    },
    {
     "data": {
      "text/plain": [
       "array([[1.],\n",
       "       [0.],\n",
       "       [2.],\n",
       "       [2.],\n",
       "       [1.],\n",
       "       [0.],\n",
       "       [0.],\n",
       "       [2.],\n",
       "       [1.]])"
      ]
     },
     "execution_count": 108,
     "metadata": {},
     "output_type": "execute_result"
    }
   ],
   "source": [
    "# 分箱的基本原理\n",
    "from sklearn.preprocessing import KBinsDiscretizer\n",
    "enc_1 = KBinsDiscretizer(n_bins=3,encode=\"ordinal\") #分成3个箱子（类别）\n",
    "X_simple = np.array([4,3,9,8,5,2,1,7,6]).reshape(-1,1) \n",
    "y_simple = np.array([4,3,9,8,5,2,1,7,6])\n",
    "print(X_simple)\n",
    "X_simple_binned = enc.fit_transform(X_simple) #将数据从小到大排成三段，标记为0,1,2三个类别\n",
    "X_simple_binned"
   ]
  },
  {
   "cell_type": "code",
   "execution_count": 109,
   "id": "ec4ac64e",
   "metadata": {},
   "outputs": [
    {
     "data": {
      "text/html": [
       "<div>\n",
       "<style scoped>\n",
       "    .dataframe tbody tr th:only-of-type {\n",
       "        vertical-align: middle;\n",
       "    }\n",
       "\n",
       "    .dataframe tbody tr th {\n",
       "        vertical-align: top;\n",
       "    }\n",
       "\n",
       "    .dataframe thead th {\n",
       "        text-align: right;\n",
       "    }\n",
       "</style>\n",
       "<table border=\"1\" class=\"dataframe\">\n",
       "  <thead>\n",
       "    <tr style=\"text-align: right;\">\n",
       "      <th></th>\n",
       "      <th>0</th>\n",
       "      <th>1</th>\n",
       "      <th>2</th>\n",
       "    </tr>\n",
       "  </thead>\n",
       "  <tbody>\n",
       "    <tr>\n",
       "      <th>0</th>\n",
       "      <td>0.0</td>\n",
       "      <td>1.0</td>\n",
       "      <td>0.0</td>\n",
       "    </tr>\n",
       "    <tr>\n",
       "      <th>1</th>\n",
       "      <td>1.0</td>\n",
       "      <td>0.0</td>\n",
       "      <td>0.0</td>\n",
       "    </tr>\n",
       "    <tr>\n",
       "      <th>2</th>\n",
       "      <td>0.0</td>\n",
       "      <td>0.0</td>\n",
       "      <td>1.0</td>\n",
       "    </tr>\n",
       "    <tr>\n",
       "      <th>3</th>\n",
       "      <td>0.0</td>\n",
       "      <td>0.0</td>\n",
       "      <td>1.0</td>\n",
       "    </tr>\n",
       "    <tr>\n",
       "      <th>4</th>\n",
       "      <td>0.0</td>\n",
       "      <td>1.0</td>\n",
       "      <td>0.0</td>\n",
       "    </tr>\n",
       "    <tr>\n",
       "      <th>5</th>\n",
       "      <td>1.0</td>\n",
       "      <td>0.0</td>\n",
       "      <td>0.0</td>\n",
       "    </tr>\n",
       "    <tr>\n",
       "      <th>6</th>\n",
       "      <td>1.0</td>\n",
       "      <td>0.0</td>\n",
       "      <td>0.0</td>\n",
       "    </tr>\n",
       "    <tr>\n",
       "      <th>7</th>\n",
       "      <td>0.0</td>\n",
       "      <td>0.0</td>\n",
       "      <td>1.0</td>\n",
       "    </tr>\n",
       "    <tr>\n",
       "      <th>8</th>\n",
       "      <td>0.0</td>\n",
       "      <td>1.0</td>\n",
       "      <td>0.0</td>\n",
       "    </tr>\n",
       "  </tbody>\n",
       "</table>\n",
       "</div>"
      ],
      "text/plain": [
       "     0    1    2\n",
       "0  0.0  1.0  0.0\n",
       "1  1.0  0.0  0.0\n",
       "2  0.0  0.0  1.0\n",
       "3  0.0  0.0  1.0\n",
       "4  0.0  1.0  0.0\n",
       "5  1.0  0.0  0.0\n",
       "6  1.0  0.0  0.0\n",
       "7  0.0  0.0  1.0\n",
       "8  0.0  1.0  0.0"
      ]
     },
     "execution_count": 109,
     "metadata": {},
     "output_type": "execute_result"
    }
   ],
   "source": [
    "# 采用哑变量处理分类\n",
    "enc_2 = KBinsDiscretizer(n_bins=3,encode=\"onehot\")\n",
    "X_matrix = enc_2.fit_transform(X_simple)\n",
    "X_simple_pd = pd.DataFrame(X_matrix.toarray())\n",
    "X_simple_pd"
   ]
  },
  {
   "cell_type": "code",
   "execution_count": 121,
   "id": "f92d12a5",
   "metadata": {},
   "outputs": [],
   "source": [
    "# 分箱后 对线性模型建模\n",
    "y_simple_pred = LR().fit(X_simple,y_simple).predict(X_simple)\n",
    "y_simple_pred2 = LR().fit(X_simple_binned,y_simple).predict(X_simple_binned)"
   ]
  },
  {
   "cell_type": "code",
   "execution_count": 125,
   "id": "c9417c13",
   "metadata": {},
   "outputs": [
    {
     "data": {
      "text/plain": [
       "Text(0.5, 1.0, 'use KBinsDiscretizer')"
      ]
     },
     "execution_count": 125,
     "metadata": {},
     "output_type": "execute_result"
    },
    {
     "data": {
      "image/png": "[encoded data removed]",
      "text/plain": [
       "<Figure size 1000x400 with 2 Axes>"
      ]
     },
     "metadata": {},
     "output_type": "display_data"
    }
   ],
   "source": [
    "fig, (ax1, ax2) = plt.subplots(ncols=2\n",
    "                               , sharey=True #让两张图共享y轴上的刻度\n",
    "                               , figsize=(10, 4))\n",
    "x_range = sorted(X_simple)\n",
    "ax1.plot(x_range, x_range, c='b')\n",
    "ax1.plot(x_range, sorted(y_simple_pred), c='r')\n",
    "ax1.legend(['Real', 'Linear'])\n",
    "ax1.set_title('not use KBinsDiscretizer')\n",
    "\n",
    "x_range = sorted(X_simple)\n",
    "ax2.plot(x_range, x_range, c='b')\n",
    "ax2.plot(x_range, sorted(y_simple_pred2), c='r')\n",
    "ax2.legend(['Real', 'Linear'])\n",
    "ax2.set_title('use KBinsDiscretizer')"
   ]
  },
  {
   "cell_type": "code",
   "execution_count": null,
   "id": "37fffdf3",
   "metadata": {},
   "outputs": [],
   "source": [
    "可以看出，被分箱后的数据在预测时，将x=1,x=2,x=3预测为y=2。可见一个预测的大致思路是：   \n",
    "训练时，对样本X分类，针对这个分类数据输出“均值”。测试时，将测试样本分类，对应到哪个类便输出对应“均值”"
   ]
  },
  {
   "cell_type": "code",
   "execution_count": 118,
   "id": "faa08714",
   "metadata": {},
   "outputs": [],
   "source": [
    "# 分箱后 对决策树建模\n",
    "y_simple_pred = DecisionTreeRegressor().fit(X_simple,y_simple).predict(X_simple)\n",
    "y_simple_pred2 = DecisionTreeRegressor().fit(X_simple_binned,y_simple).predict(X_simple_binned)"
   ]
  },
  {
   "cell_type": "code",
   "execution_count": 126,
   "id": "69a105f7",
   "metadata": {},
   "outputs": [
    {
     "data": {
      "text/plain": [
       "Text(0.5, 1.0, 'use KBinsDiscretizer')"
      ]
     },
     "execution_count": 126,
     "metadata": {},
     "output_type": "execute_result"
    },
    {
     "data": {
      "image/png": "[encoded data removed]",
      "text/plain": [
       "<Figure size 1000x400 with 2 Axes>"
      ]
     },
     "metadata": {},
     "output_type": "display_data"
    }
   ],
   "source": [
    "fig, (ax1, ax2) = plt.subplots(ncols=2\n",
    "                               , sharey=True #让两张图共享y轴上的刻度\n",
    "                               , figsize=(10, 4))\n",
    "x_range = sorted(X_simple)\n",
    "ax1.plot(x_range, x_range, c='b')\n",
    "ax1.plot(x_range, sorted(y_simple_pred), c='r')\n",
    "ax1.legend(['Real', 'Linear'])\n",
    "ax1.set_title('not use KBinsDiscretizer')\n",
    "\n",
    "x_range = sorted(X_simple)\n",
    "ax2.plot(x_range, x_range, c='b')\n",
    "ax2.plot(x_range, sorted(y_simple_pred2), c='r')\n",
    "ax2.legend(['Real', 'Linear'])\n",
    "ax2.set_title('use KBinsDiscretizer')"
   ]
  },
  {
   "cell_type": "markdown",
   "id": "951bc34f",
   "metadata": {},
   "source": [
    "##### 非线性可分数据"
   ]
  },
  {
   "cell_type": "code",
   "execution_count": 129,
   "id": "533ddfcd",
   "metadata": {},
   "outputs": [
    {
     "name": "stdout",
     "output_type": "stream",
     "text": [
      "(100,)\n",
      "(100, 1)\n"
     ]
    },
    {
     "data": {
      "image/png": "[encoded data removed]",
      "text/plain": [
       "<Figure size 640x480 with 1 Axes>"
      ]
     },
     "metadata": {},
     "output_type": "display_data"
    }
   ],
   "source": [
    "# 2. 创建需要拟合的数据集\n",
    "rnd = np.random.RandomState(42) #设置随机数种子\n",
    "X = rnd.uniform(-3, 3, size=100) #random.uniform，从输入的任意两个整数中取出size个随机数\n",
    "#生成y的思路：先使用NumPy中的函数生成一个sin函数图像，然后再人为添加噪音\n",
    "y = np.sin(X) + rnd.normal(size=len(X)) / 3 #random.normal，生成size个服从正态分布的随机数\n",
    "\n",
    "#创建测试数据：一系列分布在横坐标上的点\n",
    "line = np.linspace(-3, 3, 1000, endpoint=False).reshape(-1, 1)\n",
    "\n",
    "\n",
    "#使用散点图观察建立的数据集是什么样子\n",
    "plt.scatter(X, y,marker='o',c='k',s=20)\n",
    "\n",
    "#为后续建模做准备：sklearn只接受二维以上数组作为特征矩阵的输入\n",
    "print(X.shape)\n",
    "X = X.reshape(-1, 1)\n",
    "print(X.shape)\n"
   ]
  },
  {
   "cell_type": "code",
   "execution_count": 130,
   "id": "1d86b644",
   "metadata": {},
   "outputs": [],
   "source": [
    "# 使用原始数据训练模型\n",
    "LinearR = LR()\n",
    "LinearR = LinearR.fit(X, y)\n",
    "\n",
    "TreeR = DecisionTreeRegressor(random_state=0)\n",
    "TreeR = TreeR.fit(X, y)"
   ]
  },
  {
   "cell_type": "code",
   "execution_count": 64,
   "id": "407b3941",
   "metadata": {},
   "outputs": [
    {
     "data": {
      "image/png": "[encoded data removed]",
      "text/plain": [
       "<Figure size 640x480 with 1 Axes>"
      ]
     },
     "metadata": {},
     "output_type": "display_data"
    }
   ],
   "source": [
    "#3.2 显示原始训练模型效果\n",
    "# 放置画布\n",
    "fig, ax1 = plt.subplots(1)\n",
    "#创建测试数据：一系列分布在横坐标上的点\n",
    "line_X = np.linspace(-3, 3, 1000, endpoint=False).reshape(-1, 1) #1000个测试样本\n",
    "\n",
    "#将测试数据带入predict接口，获得模型的拟合效果并进行绘制\n",
    "ax1.plot(line_X, LinearR.predict(line_X), linewidth=2, color='green', label=\"linear regression\")\n",
    "ax1.plot(line_X, TreeR.predict(line_X), linewidth=2, color='red', label=\"decision tree\")\n",
    "#将原数据上的拟合绘制在图像上\n",
    "ax1.plot(X[:, 0], y, 'o', c='k')\n",
    "#其他图形选项\n",
    "ax1.legend(loc=\"best\")\n",
    "ax1.set_ylabel(\"Regression output\")\n",
    "ax1.set_xlabel(\"Input feature\")\n",
    "ax1.set_title(\"Result before discretization\")\n",
    "plt.tight_layout()\n"
   ]
  },
  {
   "cell_type": "markdown",
   "id": "027ce7f4",
   "metadata": {},
   "source": [
    "分箱后建模"
   ]
  },
  {
   "cell_type": "code",
   "execution_count": 136,
   "id": "abd405da",
   "metadata": {},
   "outputs": [],
   "source": [
    "# 分箱前\n",
    "LinearR = LR().fit(X, y)\n",
    "TreeR = DecisionTreeRegressor(random_state=0).fit(X, y)"
   ]
  },
  {
   "cell_type": "code",
   "execution_count": 138,
   "id": "6a30dbc2",
   "metadata": {},
   "outputs": [
    {
     "data": {
      "image/png": "[encoded data removed]",
      "text/plain": [
       "<Figure size 1000x400 with 2 Axes>"
      ]
     },
     "metadata": {},
     "output_type": "display_data"
    }
   ],
   "source": [
    "\n",
    "#将两张图像绘制在一起，布置画布\n",
    "fig, (ax1, ax2) = plt.subplots(ncols=2\n",
    "                               , sharey=True #让两张图共享y轴上的刻度\n",
    "                               , figsize=(10, 4))\n",
    "#在图1中布置在原始数据上建模的结果\n",
    "ax1.plot(line, LinearR.predict(line), linewidth=2, color='green',\n",
    "         label=\"linear regression\")\n",
    "ax1.plot(line, TreeR.predict(line), linewidth=2, color='red',\n",
    "         label=\"decision tree\")\n",
    "ax1.plot(X[:, 0], y, 'o', c='k')\n",
    "ax1.legend(loc=\"best\")\n",
    "ax1.set_ylabel(\"Regression output\")\n",
    "ax1.set_xlabel(\"Input feature\")\n",
    "ax1.set_title(\"Result before discretization\")\n",
    "\n",
    "\n",
    "# 分箱后\n",
    "#准备数据\n",
    "enc = KBinsDiscretizer(n_bins=10,encode=\"onehot\")\n",
    "X_binned = enc.fit_transform(X)\n",
    "line_binned = enc.transform(line)\n",
    "#使用分箱数据进行建模\n",
    "LinearR_ = LR().fit(X_binned, y)\n",
    "TreeR_ = DecisionTreeRegressor(random_state=0).fit(X_binned, y)\n",
    "#进行预测，在图2中布置在分箱数据上进行预测的结果\n",
    "ax2.plot(line #横坐标\n",
    "         , LinearR_.predict(line_binned) #分箱后的特征矩阵的结果\n",
    "         , linewidth=2\n",
    "         , color='green'\n",
    "         , linestyle='-'\n",
    "         , label='linear regression')\n",
    "ax2.plot(line, TreeR_.predict(line_binned), linewidth=2, color='red',\n",
    "         linestyle=':', label='decision tree')\n",
    "\n",
    "#将原始数据分布放置在图像上\n",
    "ax2.plot(X[:, 0], y, 'o', c='k')\n",
    "#其他绘图设定\n",
    "ax2.legend(loc=\"best\")\n",
    "ax2.set_xlabel(\"Input feature\")\n",
    "ax2.set_title(\"Result after discretization\")\n",
    "plt.tight_layout()\n"
   ]
  },
  {
   "cell_type": "markdown",
   "id": "3a3e9a0b",
   "metadata": {},
   "source": [
    "   对于线性模型，分箱可以实现线性可分。对于决策树，分箱可以防止过拟合。\n",
    "\n",
    "   在工业中，大量离散化变量与线性模型连用的实例很多，在深度学习出现之前，这种模式甚至一度统治一些工业中的\n",
    "机器学习应用场景，可见效果优秀，应用广泛。对于现在的很多工业场景而言，大量离散化特征的情况可能已经不是\n",
    "那么多了，不过大家依然需要对“分箱能够解决线性模型无法处理非线性数据的问题”有所了解。"
   ]
  },
  {
   "cell_type": "markdown",
   "id": "402a49cf",
   "metadata": {},
   "source": [
    "##### 多项式回归\n",
    "用房价数据测试，看是否能提升评分"
   ]
  },
  {
   "cell_type": "code",
   "execution_count": 160,
   "id": "15ef311d",
   "metadata": {},
   "outputs": [],
   "source": [
    "from sklearn.preprocessing import PolynomialFeatures\n",
    "\n",
    "housing = fetch_california_housing()\n",
    "X = pd.DataFrame(housing.data, columns=housing.feature_names)\n",
    "y = pd.DataFrame(housing.target)"
   ]
  },
  {
   "cell_type": "code",
   "execution_count": 161,
   "id": "5b9caf33",
   "metadata": {},
   "outputs": [
    {
     "data": {
      "text/html": [
       "<div>\n",
       "<style scoped>\n",
       "    .dataframe tbody tr th:only-of-type {\n",
       "        vertical-align: middle;\n",
       "    }\n",
       "\n",
       "    .dataframe tbody tr th {\n",
       "        vertical-align: top;\n",
       "    }\n",
       "\n",
       "    .dataframe thead th {\n",
       "        text-align: right;\n",
       "    }\n",
       "</style>\n",
       "<table border=\"1\" class=\"dataframe\">\n",
       "  <thead>\n",
       "    <tr style=\"text-align: right;\">\n",
       "      <th></th>\n",
       "      <th>0</th>\n",
       "      <th>1</th>\n",
       "      <th>2</th>\n",
       "      <th>3</th>\n",
       "      <th>4</th>\n",
       "      <th>5</th>\n",
       "      <th>6</th>\n",
       "      <th>7</th>\n",
       "      <th>8</th>\n",
       "      <th>9</th>\n",
       "      <th>...</th>\n",
       "      <th>35</th>\n",
       "      <th>36</th>\n",
       "      <th>37</th>\n",
       "      <th>38</th>\n",
       "      <th>39</th>\n",
       "      <th>40</th>\n",
       "      <th>41</th>\n",
       "      <th>42</th>\n",
       "      <th>43</th>\n",
       "      <th>44</th>\n",
       "    </tr>\n",
       "  </thead>\n",
       "  <tbody>\n",
       "    <tr>\n",
       "      <th>0</th>\n",
       "      <td>1.0</td>\n",
       "      <td>8.3252</td>\n",
       "      <td>41.0</td>\n",
       "      <td>6.984127</td>\n",
       "      <td>1.023810</td>\n",
       "      <td>322.0</td>\n",
       "      <td>2.555556</td>\n",
       "      <td>37.88</td>\n",
       "      <td>-122.23</td>\n",
       "      <td>69.308955</td>\n",
       "      <td>...</td>\n",
       "      <td>103684.0</td>\n",
       "      <td>822.888889</td>\n",
       "      <td>12197.36</td>\n",
       "      <td>-39358.06</td>\n",
       "      <td>6.530864</td>\n",
       "      <td>96.804444</td>\n",
       "      <td>-312.365556</td>\n",
       "      <td>1434.8944</td>\n",
       "      <td>-4630.0724</td>\n",
       "      <td>14940.1729</td>\n",
       "    </tr>\n",
       "    <tr>\n",
       "      <th>1</th>\n",
       "      <td>1.0</td>\n",
       "      <td>8.3014</td>\n",
       "      <td>21.0</td>\n",
       "      <td>6.238137</td>\n",
       "      <td>0.971880</td>\n",
       "      <td>2401.0</td>\n",
       "      <td>2.109842</td>\n",
       "      <td>37.86</td>\n",
       "      <td>-122.22</td>\n",
       "      <td>68.913242</td>\n",
       "      <td>...</td>\n",
       "      <td>5764801.0</td>\n",
       "      <td>5065.730228</td>\n",
       "      <td>90901.86</td>\n",
       "      <td>-293450.22</td>\n",
       "      <td>4.451433</td>\n",
       "      <td>79.878612</td>\n",
       "      <td>-257.864868</td>\n",
       "      <td>1433.3796</td>\n",
       "      <td>-4627.2492</td>\n",
       "      <td>14937.7284</td>\n",
       "    </tr>\n",
       "    <tr>\n",
       "      <th>2</th>\n",
       "      <td>1.0</td>\n",
       "      <td>7.2574</td>\n",
       "      <td>52.0</td>\n",
       "      <td>8.288136</td>\n",
       "      <td>1.073446</td>\n",
       "      <td>496.0</td>\n",
       "      <td>2.802260</td>\n",
       "      <td>37.85</td>\n",
       "      <td>-122.24</td>\n",
       "      <td>52.669855</td>\n",
       "      <td>...</td>\n",
       "      <td>246016.0</td>\n",
       "      <td>1389.920904</td>\n",
       "      <td>18773.60</td>\n",
       "      <td>-60631.04</td>\n",
       "      <td>7.852660</td>\n",
       "      <td>106.065537</td>\n",
       "      <td>-342.548249</td>\n",
       "      <td>1432.6225</td>\n",
       "      <td>-4626.7840</td>\n",
       "      <td>14942.6176</td>\n",
       "    </tr>\n",
       "    <tr>\n",
       "      <th>3</th>\n",
       "      <td>1.0</td>\n",
       "      <td>5.6431</td>\n",
       "      <td>52.0</td>\n",
       "      <td>5.817352</td>\n",
       "      <td>1.073059</td>\n",
       "      <td>558.0</td>\n",
       "      <td>2.547945</td>\n",
       "      <td>37.85</td>\n",
       "      <td>-122.25</td>\n",
       "      <td>31.844578</td>\n",
       "      <td>...</td>\n",
       "      <td>311364.0</td>\n",
       "      <td>1421.753425</td>\n",
       "      <td>21120.30</td>\n",
       "      <td>-68215.50</td>\n",
       "      <td>6.492025</td>\n",
       "      <td>96.439726</td>\n",
       "      <td>-311.486301</td>\n",
       "      <td>1432.6225</td>\n",
       "      <td>-4627.1625</td>\n",
       "      <td>14945.0625</td>\n",
       "    </tr>\n",
       "    <tr>\n",
       "      <th>4</th>\n",
       "      <td>1.0</td>\n",
       "      <td>3.8462</td>\n",
       "      <td>52.0</td>\n",
       "      <td>6.281853</td>\n",
       "      <td>1.081081</td>\n",
       "      <td>565.0</td>\n",
       "      <td>2.181467</td>\n",
       "      <td>37.85</td>\n",
       "      <td>-122.25</td>\n",
       "      <td>14.793254</td>\n",
       "      <td>...</td>\n",
       "      <td>319225.0</td>\n",
       "      <td>1232.528958</td>\n",
       "      <td>21385.25</td>\n",
       "      <td>-69071.25</td>\n",
       "      <td>4.758799</td>\n",
       "      <td>82.568533</td>\n",
       "      <td>-266.684363</td>\n",
       "      <td>1432.6225</td>\n",
       "      <td>-4627.1625</td>\n",
       "      <td>14945.0625</td>\n",
       "    </tr>\n",
       "    <tr>\n",
       "      <th>...</th>\n",
       "      <td>...</td>\n",
       "      <td>...</td>\n",
       "      <td>...</td>\n",
       "      <td>...</td>\n",
       "      <td>...</td>\n",
       "      <td>...</td>\n",
       "      <td>...</td>\n",
       "      <td>...</td>\n",
       "      <td>...</td>\n",
       "      <td>...</td>\n",
       "      <td>...</td>\n",
       "      <td>...</td>\n",
       "      <td>...</td>\n",
       "      <td>...</td>\n",
       "      <td>...</td>\n",
       "      <td>...</td>\n",
       "      <td>...</td>\n",
       "      <td>...</td>\n",
       "      <td>...</td>\n",
       "      <td>...</td>\n",
       "      <td>...</td>\n",
       "    </tr>\n",
       "    <tr>\n",
       "      <th>20635</th>\n",
       "      <td>1.0</td>\n",
       "      <td>1.5603</td>\n",
       "      <td>25.0</td>\n",
       "      <td>5.045455</td>\n",
       "      <td>1.133333</td>\n",
       "      <td>845.0</td>\n",
       "      <td>2.560606</td>\n",
       "      <td>39.48</td>\n",
       "      <td>-121.09</td>\n",
       "      <td>2.434536</td>\n",
       "      <td>...</td>\n",
       "      <td>714025.0</td>\n",
       "      <td>2163.712121</td>\n",
       "      <td>33360.60</td>\n",
       "      <td>-102321.05</td>\n",
       "      <td>6.556703</td>\n",
       "      <td>101.092727</td>\n",
       "      <td>-310.063788</td>\n",
       "      <td>1558.6704</td>\n",
       "      <td>-4780.6332</td>\n",
       "      <td>14662.7881</td>\n",
       "    </tr>\n",
       "    <tr>\n",
       "      <th>20636</th>\n",
       "      <td>1.0</td>\n",
       "      <td>2.5568</td>\n",
       "      <td>18.0</td>\n",
       "      <td>6.114035</td>\n",
       "      <td>1.315789</td>\n",
       "      <td>356.0</td>\n",
       "      <td>3.122807</td>\n",
       "      <td>39.49</td>\n",
       "      <td>-121.21</td>\n",
       "      <td>6.537226</td>\n",
       "      <td>...</td>\n",
       "      <td>126736.0</td>\n",
       "      <td>1111.719298</td>\n",
       "      <td>14058.44</td>\n",
       "      <td>-43150.76</td>\n",
       "      <td>9.751924</td>\n",
       "      <td>123.319649</td>\n",
       "      <td>-378.515439</td>\n",
       "      <td>1559.4601</td>\n",
       "      <td>-4786.5829</td>\n",
       "      <td>14691.8641</td>\n",
       "    </tr>\n",
       "    <tr>\n",
       "      <th>20637</th>\n",
       "      <td>1.0</td>\n",
       "      <td>1.7000</td>\n",
       "      <td>17.0</td>\n",
       "      <td>5.205543</td>\n",
       "      <td>1.120092</td>\n",
       "      <td>1007.0</td>\n",
       "      <td>2.325635</td>\n",
       "      <td>39.43</td>\n",
       "      <td>-121.22</td>\n",
       "      <td>2.890000</td>\n",
       "      <td>...</td>\n",
       "      <td>1014049.0</td>\n",
       "      <td>2341.914550</td>\n",
       "      <td>39706.01</td>\n",
       "      <td>-122068.54</td>\n",
       "      <td>5.408579</td>\n",
       "      <td>91.699792</td>\n",
       "      <td>-281.913487</td>\n",
       "      <td>1554.7249</td>\n",
       "      <td>-4779.7046</td>\n",
       "      <td>14694.2884</td>\n",
       "    </tr>\n",
       "    <tr>\n",
       "      <th>20638</th>\n",
       "      <td>1.0</td>\n",
       "      <td>1.8672</td>\n",
       "      <td>18.0</td>\n",
       "      <td>5.329513</td>\n",
       "      <td>1.171920</td>\n",
       "      <td>741.0</td>\n",
       "      <td>2.123209</td>\n",
       "      <td>39.43</td>\n",
       "      <td>-121.32</td>\n",
       "      <td>3.486436</td>\n",
       "      <td>...</td>\n",
       "      <td>549081.0</td>\n",
       "      <td>1573.297994</td>\n",
       "      <td>29217.63</td>\n",
       "      <td>-89898.12</td>\n",
       "      <td>4.508017</td>\n",
       "      <td>83.718138</td>\n",
       "      <td>-257.587736</td>\n",
       "      <td>1554.7249</td>\n",
       "      <td>-4783.6476</td>\n",
       "      <td>14718.5424</td>\n",
       "    </tr>\n",
       "    <tr>\n",
       "      <th>20639</th>\n",
       "      <td>1.0</td>\n",
       "      <td>2.3886</td>\n",
       "      <td>16.0</td>\n",
       "      <td>5.254717</td>\n",
       "      <td>1.162264</td>\n",
       "      <td>1387.0</td>\n",
       "      <td>2.616981</td>\n",
       "      <td>39.37</td>\n",
       "      <td>-121.24</td>\n",
       "      <td>5.705410</td>\n",
       "      <td>...</td>\n",
       "      <td>1923769.0</td>\n",
       "      <td>3629.752830</td>\n",
       "      <td>54606.19</td>\n",
       "      <td>-168159.88</td>\n",
       "      <td>6.848590</td>\n",
       "      <td>103.030547</td>\n",
       "      <td>-317.282792</td>\n",
       "      <td>1549.9969</td>\n",
       "      <td>-4773.2188</td>\n",
       "      <td>14699.1376</td>\n",
       "    </tr>\n",
       "  </tbody>\n",
       "</table>\n",
       "<p>20640 rows × 45 columns</p>\n",
       "</div>"
      ],
      "text/plain": [
       "        0       1     2         3         4       5         6      7       8   \\\n",
       "0      1.0  8.3252  41.0  6.984127  1.023810   322.0  2.555556  37.88 -122.23   \n",
       "1      1.0  8.3014  21.0  6.238137  0.971880  2401.0  2.109842  37.86 -122.22   \n",
       "2      1.0  7.2574  52.0  8.288136  1.073446   496.0  2.802260  37.85 -122.24   \n",
       "3      1.0  5.6431  52.0  5.817352  1.073059   558.0  2.547945  37.85 -122.25   \n",
       "4      1.0  3.8462  52.0  6.281853  1.081081   565.0  2.181467  37.85 -122.25   \n",
       "...    ...     ...   ...       ...       ...     ...       ...    ...     ...   \n",
       "20635  1.0  1.5603  25.0  5.045455  1.133333   845.0  2.560606  39.48 -121.09   \n",
       "20636  1.0  2.5568  18.0  6.114035  1.315789   356.0  3.122807  39.49 -121.21   \n",
       "20637  1.0  1.7000  17.0  5.205543  1.120092  1007.0  2.325635  39.43 -121.22   \n",
       "20638  1.0  1.8672  18.0  5.329513  1.171920   741.0  2.123209  39.43 -121.32   \n",
       "20639  1.0  2.3886  16.0  5.254717  1.162264  1387.0  2.616981  39.37 -121.24   \n",
       "\n",
       "              9   ...         35           36        37         38        39  \\\n",
       "0      69.308955  ...   103684.0   822.888889  12197.36  -39358.06  6.530864   \n",
       "1      68.913242  ...  5764801.0  5065.730228  90901.86 -293450.22  4.451433   \n",
       "2      52.669855  ...   246016.0  1389.920904  18773.60  -60631.04  7.852660   \n",
       "3      31.844578  ...   311364.0  1421.753425  21120.30  -68215.50  6.492025   \n",
       "4      14.793254  ...   319225.0  1232.528958  21385.25  -69071.25  4.758799   \n",
       "...          ...  ...        ...          ...       ...        ...       ...   \n",
       "20635   2.434536  ...   714025.0  2163.712121  33360.60 -102321.05  6.556703   \n",
       "20636   6.537226  ...   126736.0  1111.719298  14058.44  -43150.76  9.751924   \n",
       "20637   2.890000  ...  1014049.0  2341.914550  39706.01 -122068.54  5.408579   \n",
       "20638   3.486436  ...   549081.0  1573.297994  29217.63  -89898.12  4.508017   \n",
       "20639   5.705410  ...  1923769.0  3629.752830  54606.19 -168159.88  6.848590   \n",
       "\n",
       "               40          41         42         43          44  \n",
       "0       96.804444 -312.365556  1434.8944 -4630.0724  14940.1729  \n",
       "1       79.878612 -257.864868  1433.3796 -4627.2492  14937.7284  \n",
       "2      106.065537 -342.548249  1432.6225 -4626.7840  14942.6176  \n",
       "3       96.439726 -311.486301  1432.6225 -4627.1625  14945.0625  \n",
       "4       82.568533 -266.684363  1432.6225 -4627.1625  14945.0625  \n",
       "...           ...         ...        ...        ...         ...  \n",
       "20635  101.092727 -310.063788  1558.6704 -4780.6332  14662.7881  \n",
       "20636  123.319649 -378.515439  1559.4601 -4786.5829  14691.8641  \n",
       "20637   91.699792 -281.913487  1554.7249 -4779.7046  14694.2884  \n",
       "20638   83.718138 -257.587736  1554.7249 -4783.6476  14718.5424  \n",
       "20639  103.030547 -317.282792  1549.9969 -4773.2188  14699.1376  \n",
       "\n",
       "[20640 rows x 45 columns]"
      ]
     },
     "execution_count": 161,
     "metadata": {},
     "output_type": "execute_result"
    }
   ],
   "source": [
    "poly = PolynomialFeatures(degree=2).fit(X)\n",
    "X_poly = pd.DataFrame(poly.transform(X))\n",
    "X_poly"
   ]
  },
  {
   "cell_type": "code",
   "execution_count": 163,
   "id": "1b3e6506",
   "metadata": {},
   "outputs": [
    {
     "data": {
      "text/html": [
       "<div>\n",
       "<style scoped>\n",
       "    .dataframe tbody tr th:only-of-type {\n",
       "        vertical-align: middle;\n",
       "    }\n",
       "\n",
       "    .dataframe tbody tr th {\n",
       "        vertical-align: top;\n",
       "    }\n",
       "\n",
       "    .dataframe thead th {\n",
       "        text-align: right;\n",
       "    }\n",
       "</style>\n",
       "<table border=\"1\" class=\"dataframe\">\n",
       "  <thead>\n",
       "    <tr style=\"text-align: right;\">\n",
       "      <th></th>\n",
       "      <th>0</th>\n",
       "      <th>1</th>\n",
       "      <th>2</th>\n",
       "      <th>3</th>\n",
       "      <th>4</th>\n",
       "      <th>5</th>\n",
       "      <th>6</th>\n",
       "      <th>7</th>\n",
       "      <th>8</th>\n",
       "      <th>9</th>\n",
       "      <th>...</th>\n",
       "      <th>35</th>\n",
       "      <th>36</th>\n",
       "      <th>37</th>\n",
       "      <th>38</th>\n",
       "      <th>39</th>\n",
       "      <th>40</th>\n",
       "      <th>41</th>\n",
       "      <th>42</th>\n",
       "      <th>43</th>\n",
       "      <th>44</th>\n",
       "    </tr>\n",
       "  </thead>\n",
       "  <tbody>\n",
       "    <tr>\n",
       "      <th>7061</th>\n",
       "      <td>1.0</td>\n",
       "      <td>4.1312</td>\n",
       "      <td>35.0</td>\n",
       "      <td>5.882353</td>\n",
       "      <td>0.975490</td>\n",
       "      <td>1218.0</td>\n",
       "      <td>2.985294</td>\n",
       "      <td>33.93</td>\n",
       "      <td>-118.02</td>\n",
       "      <td>17.066813</td>\n",
       "      <td>...</td>\n",
       "      <td>1483524.0</td>\n",
       "      <td>3636.088235</td>\n",
       "      <td>41326.74</td>\n",
       "      <td>-143748.36</td>\n",
       "      <td>8.911981</td>\n",
       "      <td>101.291029</td>\n",
       "      <td>-352.324412</td>\n",
       "      <td>1151.2449</td>\n",
       "      <td>-4004.4186</td>\n",
       "      <td>13928.7204</td>\n",
       "    </tr>\n",
       "    <tr>\n",
       "      <th>14689</th>\n",
       "      <td>1.0</td>\n",
       "      <td>2.8631</td>\n",
       "      <td>20.0</td>\n",
       "      <td>4.401210</td>\n",
       "      <td>1.076613</td>\n",
       "      <td>999.0</td>\n",
       "      <td>2.014113</td>\n",
       "      <td>32.79</td>\n",
       "      <td>-117.09</td>\n",
       "      <td>8.197342</td>\n",
       "      <td>...</td>\n",
       "      <td>998001.0</td>\n",
       "      <td>2012.098790</td>\n",
       "      <td>32757.21</td>\n",
       "      <td>-116972.91</td>\n",
       "      <td>4.056651</td>\n",
       "      <td>66.042762</td>\n",
       "      <td>-235.832480</td>\n",
       "      <td>1075.1841</td>\n",
       "      <td>-3839.3811</td>\n",
       "      <td>13710.0681</td>\n",
       "    </tr>\n",
       "    <tr>\n",
       "      <th>17323</th>\n",
       "      <td>1.0</td>\n",
       "      <td>4.2026</td>\n",
       "      <td>24.0</td>\n",
       "      <td>5.617544</td>\n",
       "      <td>0.989474</td>\n",
       "      <td>731.0</td>\n",
       "      <td>2.564912</td>\n",
       "      <td>34.59</td>\n",
       "      <td>-120.14</td>\n",
       "      <td>17.661847</td>\n",
       "      <td>...</td>\n",
       "      <td>534361.0</td>\n",
       "      <td>1874.950877</td>\n",
       "      <td>25285.29</td>\n",
       "      <td>-87822.34</td>\n",
       "      <td>6.578775</td>\n",
       "      <td>88.720316</td>\n",
       "      <td>-308.148561</td>\n",
       "      <td>1196.4681</td>\n",
       "      <td>-4155.6426</td>\n",
       "      <td>14433.6196</td>\n",
       "    </tr>\n",
       "    <tr>\n",
       "      <th>10056</th>\n",
       "      <td>1.0</td>\n",
       "      <td>3.1094</td>\n",
       "      <td>14.0</td>\n",
       "      <td>5.869565</td>\n",
       "      <td>1.094203</td>\n",
       "      <td>302.0</td>\n",
       "      <td>2.188406</td>\n",
       "      <td>39.26</td>\n",
       "      <td>-121.00</td>\n",
       "      <td>9.668368</td>\n",
       "      <td>...</td>\n",
       "      <td>91204.0</td>\n",
       "      <td>660.898551</td>\n",
       "      <td>11856.52</td>\n",
       "      <td>-36542.00</td>\n",
       "      <td>4.789120</td>\n",
       "      <td>85.916812</td>\n",
       "      <td>-264.797101</td>\n",
       "      <td>1541.3476</td>\n",
       "      <td>-4750.4600</td>\n",
       "      <td>14641.0000</td>\n",
       "    </tr>\n",
       "    <tr>\n",
       "      <th>15750</th>\n",
       "      <td>1.0</td>\n",
       "      <td>3.3068</td>\n",
       "      <td>52.0</td>\n",
       "      <td>4.801205</td>\n",
       "      <td>1.066265</td>\n",
       "      <td>1526.0</td>\n",
       "      <td>2.298193</td>\n",
       "      <td>37.77</td>\n",
       "      <td>-122.45</td>\n",
       "      <td>10.934926</td>\n",
       "      <td>...</td>\n",
       "      <td>2328676.0</td>\n",
       "      <td>3507.042169</td>\n",
       "      <td>57637.02</td>\n",
       "      <td>-186858.70</td>\n",
       "      <td>5.281690</td>\n",
       "      <td>86.802741</td>\n",
       "      <td>-281.413705</td>\n",
       "      <td>1426.5729</td>\n",
       "      <td>-4624.9365</td>\n",
       "      <td>14994.0025</td>\n",
       "    </tr>\n",
       "    <tr>\n",
       "      <th>...</th>\n",
       "      <td>...</td>\n",
       "      <td>...</td>\n",
       "      <td>...</td>\n",
       "      <td>...</td>\n",
       "      <td>...</td>\n",
       "      <td>...</td>\n",
       "      <td>...</td>\n",
       "      <td>...</td>\n",
       "      <td>...</td>\n",
       "      <td>...</td>\n",
       "      <td>...</td>\n",
       "      <td>...</td>\n",
       "      <td>...</td>\n",
       "      <td>...</td>\n",
       "      <td>...</td>\n",
       "      <td>...</td>\n",
       "      <td>...</td>\n",
       "      <td>...</td>\n",
       "      <td>...</td>\n",
       "      <td>...</td>\n",
       "      <td>...</td>\n",
       "    </tr>\n",
       "    <tr>\n",
       "      <th>11284</th>\n",
       "      <td>1.0</td>\n",
       "      <td>6.3700</td>\n",
       "      <td>35.0</td>\n",
       "      <td>6.129032</td>\n",
       "      <td>0.926267</td>\n",
       "      <td>658.0</td>\n",
       "      <td>3.032258</td>\n",
       "      <td>33.78</td>\n",
       "      <td>-117.96</td>\n",
       "      <td>40.576900</td>\n",
       "      <td>...</td>\n",
       "      <td>432964.0</td>\n",
       "      <td>1995.225806</td>\n",
       "      <td>22227.24</td>\n",
       "      <td>-77617.68</td>\n",
       "      <td>9.194589</td>\n",
       "      <td>102.429677</td>\n",
       "      <td>-357.685161</td>\n",
       "      <td>1141.0884</td>\n",
       "      <td>-3984.6888</td>\n",
       "      <td>13914.5616</td>\n",
       "    </tr>\n",
       "    <tr>\n",
       "      <th>11964</th>\n",
       "      <td>1.0</td>\n",
       "      <td>3.0500</td>\n",
       "      <td>33.0</td>\n",
       "      <td>6.868597</td>\n",
       "      <td>1.269488</td>\n",
       "      <td>1753.0</td>\n",
       "      <td>3.904232</td>\n",
       "      <td>34.02</td>\n",
       "      <td>-117.43</td>\n",
       "      <td>9.302500</td>\n",
       "      <td>...</td>\n",
       "      <td>3073009.0</td>\n",
       "      <td>6844.118040</td>\n",
       "      <td>59637.06</td>\n",
       "      <td>-205854.79</td>\n",
       "      <td>15.243025</td>\n",
       "      <td>132.821960</td>\n",
       "      <td>-458.473920</td>\n",
       "      <td>1157.3604</td>\n",
       "      <td>-3994.9686</td>\n",
       "      <td>13789.8049</td>\n",
       "    </tr>\n",
       "    <tr>\n",
       "      <th>5390</th>\n",
       "      <td>1.0</td>\n",
       "      <td>2.9344</td>\n",
       "      <td>36.0</td>\n",
       "      <td>3.986717</td>\n",
       "      <td>1.079696</td>\n",
       "      <td>1756.0</td>\n",
       "      <td>3.332068</td>\n",
       "      <td>34.03</td>\n",
       "      <td>-118.38</td>\n",
       "      <td>8.610703</td>\n",
       "      <td>...</td>\n",
       "      <td>3083536.0</td>\n",
       "      <td>5851.111954</td>\n",
       "      <td>59756.68</td>\n",
       "      <td>-207875.28</td>\n",
       "      <td>11.102679</td>\n",
       "      <td>113.390285</td>\n",
       "      <td>-394.450247</td>\n",
       "      <td>1158.0409</td>\n",
       "      <td>-4028.4714</td>\n",
       "      <td>14013.8244</td>\n",
       "    </tr>\n",
       "    <tr>\n",
       "      <th>860</th>\n",
       "      <td>1.0</td>\n",
       "      <td>5.7192</td>\n",
       "      <td>15.0</td>\n",
       "      <td>6.395349</td>\n",
       "      <td>1.067979</td>\n",
       "      <td>1777.0</td>\n",
       "      <td>3.178891</td>\n",
       "      <td>37.58</td>\n",
       "      <td>-121.96</td>\n",
       "      <td>32.709249</td>\n",
       "      <td>...</td>\n",
       "      <td>3157729.0</td>\n",
       "      <td>5648.889088</td>\n",
       "      <td>66779.66</td>\n",
       "      <td>-216722.92</td>\n",
       "      <td>10.105347</td>\n",
       "      <td>119.462719</td>\n",
       "      <td>-387.697531</td>\n",
       "      <td>1412.2564</td>\n",
       "      <td>-4583.2568</td>\n",
       "      <td>14874.2416</td>\n",
       "    </tr>\n",
       "    <tr>\n",
       "      <th>15795</th>\n",
       "      <td>1.0</td>\n",
       "      <td>2.5755</td>\n",
       "      <td>52.0</td>\n",
       "      <td>3.402576</td>\n",
       "      <td>1.058776</td>\n",
       "      <td>2619.0</td>\n",
       "      <td>2.108696</td>\n",
       "      <td>37.77</td>\n",
       "      <td>-122.42</td>\n",
       "      <td>6.633200</td>\n",
       "      <td>...</td>\n",
       "      <td>6859161.0</td>\n",
       "      <td>5522.673913</td>\n",
       "      <td>98919.63</td>\n",
       "      <td>-320617.98</td>\n",
       "      <td>4.446597</td>\n",
       "      <td>79.645435</td>\n",
       "      <td>-258.146522</td>\n",
       "      <td>1426.5729</td>\n",
       "      <td>-4623.8034</td>\n",
       "      <td>14986.6564</td>\n",
       "    </tr>\n",
       "  </tbody>\n",
       "</table>\n",
       "<p>14448 rows × 45 columns</p>\n",
       "</div>"
      ],
      "text/plain": [
       "        0       1     2         3         4       5         6      7       8   \\\n",
       "7061   1.0  4.1312  35.0  5.882353  0.975490  1218.0  2.985294  33.93 -118.02   \n",
       "14689  1.0  2.8631  20.0  4.401210  1.076613   999.0  2.014113  32.79 -117.09   \n",
       "17323  1.0  4.2026  24.0  5.617544  0.989474   731.0  2.564912  34.59 -120.14   \n",
       "10056  1.0  3.1094  14.0  5.869565  1.094203   302.0  2.188406  39.26 -121.00   \n",
       "15750  1.0  3.3068  52.0  4.801205  1.066265  1526.0  2.298193  37.77 -122.45   \n",
       "...    ...     ...   ...       ...       ...     ...       ...    ...     ...   \n",
       "11284  1.0  6.3700  35.0  6.129032  0.926267   658.0  3.032258  33.78 -117.96   \n",
       "11964  1.0  3.0500  33.0  6.868597  1.269488  1753.0  3.904232  34.02 -117.43   \n",
       "5390   1.0  2.9344  36.0  3.986717  1.079696  1756.0  3.332068  34.03 -118.38   \n",
       "860    1.0  5.7192  15.0  6.395349  1.067979  1777.0  3.178891  37.58 -121.96   \n",
       "15795  1.0  2.5755  52.0  3.402576  1.058776  2619.0  2.108696  37.77 -122.42   \n",
       "\n",
       "              9   ...         35           36        37         38         39  \\\n",
       "7061   17.066813  ...  1483524.0  3636.088235  41326.74 -143748.36   8.911981   \n",
       "14689   8.197342  ...   998001.0  2012.098790  32757.21 -116972.91   4.056651   \n",
       "17323  17.661847  ...   534361.0  1874.950877  25285.29  -87822.34   6.578775   \n",
       "10056   9.668368  ...    91204.0   660.898551  11856.52  -36542.00   4.789120   \n",
       "15750  10.934926  ...  2328676.0  3507.042169  57637.02 -186858.70   5.281690   \n",
       "...          ...  ...        ...          ...       ...        ...        ...   \n",
       "11284  40.576900  ...   432964.0  1995.225806  22227.24  -77617.68   9.194589   \n",
       "11964   9.302500  ...  3073009.0  6844.118040  59637.06 -205854.79  15.243025   \n",
       "5390    8.610703  ...  3083536.0  5851.111954  59756.68 -207875.28  11.102679   \n",
       "860    32.709249  ...  3157729.0  5648.889088  66779.66 -216722.92  10.105347   \n",
       "15795   6.633200  ...  6859161.0  5522.673913  98919.63 -320617.98   4.446597   \n",
       "\n",
       "               40          41         42         43          44  \n",
       "7061   101.291029 -352.324412  1151.2449 -4004.4186  13928.7204  \n",
       "14689   66.042762 -235.832480  1075.1841 -3839.3811  13710.0681  \n",
       "17323   88.720316 -308.148561  1196.4681 -4155.6426  14433.6196  \n",
       "10056   85.916812 -264.797101  1541.3476 -4750.4600  14641.0000  \n",
       "15750   86.802741 -281.413705  1426.5729 -4624.9365  14994.0025  \n",
       "...           ...         ...        ...        ...         ...  \n",
       "11284  102.429677 -357.685161  1141.0884 -3984.6888  13914.5616  \n",
       "11964  132.821960 -458.473920  1157.3604 -3994.9686  13789.8049  \n",
       "5390   113.390285 -394.450247  1158.0409 -4028.4714  14013.8244  \n",
       "860    119.462719 -387.697531  1412.2564 -4583.2568  14874.2416  \n",
       "15795   79.645435 -258.146522  1426.5729 -4623.8034  14986.6564  \n",
       "\n",
       "[14448 rows x 45 columns]"
      ]
     },
     "execution_count": 163,
     "metadata": {},
     "output_type": "execute_result"
    }
   ],
   "source": [
    "Xtrain, Xtest, Ytrain, Ytest = train_test_split(X_poly,y,test_size=0.3,random_state=42)\n",
    "Xtrain"
   ]
  },
  {
   "cell_type": "code",
   "execution_count": 164,
   "id": "28d7cb7d",
   "metadata": {},
   "outputs": [],
   "source": [
    "lr =  LR().fit(Xtrain,Ytrain)"
   ]
  },
  {
   "cell_type": "code",
   "execution_count": 165,
   "id": "1482d0ea",
   "metadata": {},
   "outputs": [
    {
     "data": {
      "text/plain": [
       "array([[ 8.40993818e-08, -1.17657598e+01, -8.02629170e-01,\n",
       "         7.41714912e+00, -3.70415469e+01, -3.12434154e-04,\n",
       "         8.86884323e-01,  8.54961512e+00,  6.22321988e+00,\n",
       "        -3.33830074e-02,  1.79444973e-03,  4.68581378e-02,\n",
       "        -1.57572396e-01,  4.83632761e-05, -4.01089428e-03,\n",
       "        -1.62888303e-01, -1.51627122e-01,  2.34558051e-04,\n",
       "        -1.15772116e-03,  1.22824026e-02,  2.55864056e-06,\n",
       "        -1.74849835e-03, -9.80940520e-03, -9.50801910e-03,\n",
       "         1.22890612e-02, -1.20972599e-01, -5.37031556e-05,\n",
       "         2.15110436e-02,  1.04692533e-01,  9.57738463e-02,\n",
       "         2.98634870e-01,  4.68989736e-04, -9.16860585e-02,\n",
       "        -5.31659377e-01, -4.77571246e-01,  1.47533638e-09,\n",
       "         2.32267925e-05,  1.09430681e-05,  5.03831792e-06,\n",
       "         5.18868264e-05,  2.03113283e-02,  1.45797305e-02,\n",
       "         5.90753100e-02,  1.04575777e-01,  4.06438383e-02]])"
      ]
     },
     "execution_count": 165,
     "metadata": {},
     "output_type": "execute_result"
    }
   ],
   "source": [
    "lr.coef_"
   ]
  },
  {
   "cell_type": "code",
   "execution_count": 166,
   "id": "1965934c",
   "metadata": {},
   "outputs": [
    {
     "name": "stdout",
     "output_type": "stream",
     "text": [
      "0.4549723400347175\n",
      "0.6533650001808258\n"
     ]
    }
   ],
   "source": [
    "Ypred = lr.predict(Xtest)\n",
    "print(MSE(Ytest, Ypred))\n",
    "print(r2_score(Ytest, Ypred))"
   ]
  },
  {
   "cell_type": "code",
   "execution_count": 167,
   "id": "6592fb55",
   "metadata": {},
   "outputs": [
    {
     "data": {
      "text/plain": [
       "<matplotlib.legend.Legend at 0x231a52bb820>"
      ]
     },
     "execution_count": 167,
     "metadata": {},
     "output_type": "execute_result"
    },
    {
     "data": {
      "image/png": "[encoded data removed]",
      "text/plain": [
       "<Figure size 1000x500 with 1 Axes>"
      ]
     },
     "metadata": {},
     "output_type": "display_data"
    }
   ],
   "source": [
    "# 绘制预测房价的变化规律\n",
    "plt.figure(figsize=(10,5))\n",
    "y_test_list = Ytest.values.flatten()\n",
    "y_pred_list = Ypred.flatten()\n",
    "plt.plot(range(len(y_test_list)),sorted(y_test_list),c=\"black\",label= \"Data\")\n",
    "plt.plot(range(len(y_pred_list)),sorted(y_pred_list),c=\"red\",label = \"Predict\")\n",
    "plt.legend()"
   ]
  },
  {
   "cell_type": "markdown",
   "id": "9ab491e5",
   "metadata": {},
   "source": [
    "多项式回归的拟合程度更好"
   ]
  },
  {
   "cell_type": "code",
   "execution_count": null,
   "id": "39cc45af",
   "metadata": {},
   "outputs": [],
   "source": []
  }
 ],
 "metadata": {
  "kernelspec": {
   "display_name": "Python 3 (ipykernel)",
   "language": "python",
   "name": "python3"
  },
  "language_info": {
   "codemirror_mode": {
    "name": "ipython",
    "version": 3
   },
   "file_extension": ".py",
   "mimetype": "text/x-python",
   "name": "python",
   "nbconvert_exporter": "python",
   "pygments_lexer": "ipython3",
   "version": "3.9.13"
  }
 },
 "nbformat": 4,
 "nbformat_minor": 5
}

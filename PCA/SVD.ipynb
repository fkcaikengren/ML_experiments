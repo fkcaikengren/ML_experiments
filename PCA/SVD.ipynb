{
 "cells": [
  {
   "cell_type": "code",
   "execution_count": 3,
   "id": "32cc88ae",
   "metadata": {},
   "outputs": [],
   "source": [
    "import numpy as np\n",
    "import pandas as pd\n",
    "import matplotlib.pyplot as plt\n",
    "%matplotlib inline\n",
    "from sklearn.datasets import load_iris\n",
    "from sklearn.decomposition import TruncatedSVD, PCA"
   ]
  },
  {
   "cell_type": "code",
   "execution_count": 37,
   "id": "302a4591",
   "metadata": {},
   "outputs": [
    {
     "data": {
      "text/html": [
       "<div>\n",
       "<style scoped>\n",
       "    .dataframe tbody tr th:only-of-type {\n",
       "        vertical-align: middle;\n",
       "    }\n",
       "\n",
       "    .dataframe tbody tr th {\n",
       "        vertical-align: top;\n",
       "    }\n",
       "\n",
       "    .dataframe thead th {\n",
       "        text-align: right;\n",
       "    }\n",
       "</style>\n",
       "<table border=\"1\" class=\"dataframe\">\n",
       "  <thead>\n",
       "    <tr style=\"text-align: right;\">\n",
       "      <th></th>\n",
       "      <th>0</th>\n",
       "      <th>1</th>\n",
       "      <th>2</th>\n",
       "      <th>3</th>\n",
       "    </tr>\n",
       "  </thead>\n",
       "  <tbody>\n",
       "    <tr>\n",
       "      <th>0</th>\n",
       "      <td>1</td>\n",
       "      <td>0</td>\n",
       "      <td>0</td>\n",
       "      <td>0</td>\n",
       "    </tr>\n",
       "    <tr>\n",
       "      <th>1</th>\n",
       "      <td>0</td>\n",
       "      <td>0</td>\n",
       "      <td>0</td>\n",
       "      <td>4</td>\n",
       "    </tr>\n",
       "    <tr>\n",
       "      <th>2</th>\n",
       "      <td>0</td>\n",
       "      <td>3</td>\n",
       "      <td>0</td>\n",
       "      <td>0</td>\n",
       "    </tr>\n",
       "    <tr>\n",
       "      <th>3</th>\n",
       "      <td>0</td>\n",
       "      <td>0</td>\n",
       "      <td>0</td>\n",
       "      <td>0</td>\n",
       "    </tr>\n",
       "    <tr>\n",
       "      <th>4</th>\n",
       "      <td>2</td>\n",
       "      <td>0</td>\n",
       "      <td>0</td>\n",
       "      <td>0</td>\n",
       "    </tr>\n",
       "  </tbody>\n",
       "</table>\n",
       "</div>"
      ],
      "text/plain": [
       "   0  1  2  3\n",
       "0  1  0  0  0\n",
       "1  0  0  0  4\n",
       "2  0  3  0  0\n",
       "3  0  0  0  0\n",
       "4  2  0  0  0"
      ]
     },
     "execution_count": 37,
     "metadata": {},
     "output_type": "execute_result"
    }
   ],
   "source": [
    "X = pd.DataFrame([\n",
    "    [1,0,0,0],\n",
    "    [0,0,0,4],\n",
    "    [0,3,0,0],\n",
    "    [0,0,0,0],\n",
    "    [2,0,0,0],\n",
    "])\n",
    "X"
   ]
  },
  {
   "cell_type": "code",
   "execution_count": 52,
   "id": "c2449bdd",
   "metadata": {
    "scrolled": true
   },
   "outputs": [
    {
     "data": {
      "text/plain": [
       "array([[0., 0.],\n",
       "       [4., 0.],\n",
       "       [0., 3.],\n",
       "       [0., 0.],\n",
       "       [0., 0.]])"
      ]
     },
     "execution_count": 52,
     "metadata": {},
     "output_type": "execute_result"
    }
   ],
   "source": [
    "# 对A进行截断奇异值分解\n",
    "svd = TruncatedSVD(n_components=2, random_state=2)\n",
    "X_transform = svd.fit_transform(X)\n",
    "np.around(X_transform, 7)"
   ]
  },
  {
   "cell_type": "markdown",
   "id": "954dd966",
   "metadata": {},
   "source": [
    "V<sup>T</sup> 的行向量是X<sup>T</sup>X的单位特征向量组成"
   ]
  },
  {
   "cell_type": "code",
   "execution_count": 51,
   "id": "a8b69c31",
   "metadata": {
    "scrolled": true
   },
   "outputs": [
    {
     "data": {
      "text/plain": [
       "array([[-0.,  0.,  0.,  1.],\n",
       "       [ 0.,  1., -0., -0.]])"
      ]
     },
     "execution_count": 51,
     "metadata": {},
     "output_type": "execute_result"
    }
   ],
   "source": [
    "VT = np.around(svd.components_, 7) # V.T的值（四舍五入保留7位小数）\n",
    "VT"
   ]
  },
  {
   "cell_type": "code",
   "execution_count": 82,
   "id": "a870a2a3",
   "metadata": {},
   "outputs": [
    {
     "data": {
      "text/plain": [
       "array([[0., 4., 0., 0., 0.],\n",
       "       [0., 0., 3., 0., 0.]])"
      ]
     },
     "execution_count": 82,
     "metadata": {},
     "output_type": "execute_result"
    }
   ],
   "source": [
    "np.dot(VT, X.T) #经过正交变换得到新矩阵"
   ]
  },
  {
   "cell_type": "markdown",
   "id": "429be686",
   "metadata": {},
   "source": [
    "查看降维结果"
   ]
  },
  {
   "cell_type": "code",
   "execution_count": 4,
   "id": "312a4f66",
   "metadata": {},
   "outputs": [
    {
     "data": {
      "text/html": [
       "<div>\n",
       "<style scoped>\n",
       "    .dataframe tbody tr th:only-of-type {\n",
       "        vertical-align: middle;\n",
       "    }\n",
       "\n",
       "    .dataframe tbody tr th {\n",
       "        vertical-align: top;\n",
       "    }\n",
       "\n",
       "    .dataframe thead th {\n",
       "        text-align: right;\n",
       "    }\n",
       "</style>\n",
       "<table border=\"1\" class=\"dataframe\">\n",
       "  <thead>\n",
       "    <tr style=\"text-align: right;\">\n",
       "      <th></th>\n",
       "      <th>0</th>\n",
       "      <th>1</th>\n",
       "      <th>2</th>\n",
       "      <th>3</th>\n",
       "    </tr>\n",
       "  </thead>\n",
       "  <tbody>\n",
       "    <tr>\n",
       "      <th>0</th>\n",
       "      <td>1</td>\n",
       "      <td>2.0</td>\n",
       "      <td>0.0</td>\n",
       "      <td>0</td>\n",
       "    </tr>\n",
       "    <tr>\n",
       "      <th>1</th>\n",
       "      <td>0</td>\n",
       "      <td>0.0</td>\n",
       "      <td>0.0</td>\n",
       "      <td>4</td>\n",
       "    </tr>\n",
       "    <tr>\n",
       "      <th>2</th>\n",
       "      <td>0</td>\n",
       "      <td>0.0</td>\n",
       "      <td>0.1</td>\n",
       "      <td>0</td>\n",
       "    </tr>\n",
       "    <tr>\n",
       "      <th>3</th>\n",
       "      <td>0</td>\n",
       "      <td>0.0</td>\n",
       "      <td>0.0</td>\n",
       "      <td>0</td>\n",
       "    </tr>\n",
       "    <tr>\n",
       "      <th>4</th>\n",
       "      <td>2</td>\n",
       "      <td>4.1</td>\n",
       "      <td>0.0</td>\n",
       "      <td>0</td>\n",
       "    </tr>\n",
       "  </tbody>\n",
       "</table>\n",
       "</div>"
      ],
      "text/plain": [
       "   0    1    2  3\n",
       "0  1  2.0  0.0  0\n",
       "1  0  0.0  0.0  4\n",
       "2  0  0.0  0.1  0\n",
       "3  0  0.0  0.0  0\n",
       "4  2  4.1  0.0  0"
      ]
     },
     "execution_count": 4,
     "metadata": {},
     "output_type": "execute_result"
    }
   ],
   "source": [
    "X = pd.DataFrame([\n",
    "    [1,2. ,0,0],\n",
    "    [0,0. ,0,4],\n",
    "    [0,0., 0.1,0],\n",
    "    [0,0., 0,0],\n",
    "    [2,4.1,0,0],\n",
    "])\n",
    "X"
   ]
  },
  {
   "cell_type": "code",
   "execution_count": 5,
   "id": "d63a59e0",
   "metadata": {},
   "outputs": [
    {
     "data": {
      "text/plain": [
       "array([[ 2.2359981,  0.       , -0.       ],\n",
       "       [-0.       ,  4.       ,  0.       ],\n",
       "       [ 0.       , -0.       ,  0.1      ],\n",
       "       [ 0.       ,  0.       ,  0.       ],\n",
       "       [ 4.5617897,  0.       , -0.       ]])"
      ]
     },
     "execution_count": 5,
     "metadata": {},
     "output_type": "execute_result"
    }
   ],
   "source": [
    "# 对A进行截断奇异值分解\n",
    "svd = TruncatedSVD(n_components=3, random_state=2)\n",
    "X_transform = svd.fit_transform(X)\n",
    "np.around(X_transform, 7)"
   ]
  },
  {
   "cell_type": "code",
   "execution_count": 12,
   "id": "c5b407f9",
   "metadata": {},
   "outputs": [
    {
     "data": {
      "text/plain": [
       "array([3.31353e+00, 2.56000e+00, 1.60000e-03])"
      ]
     },
     "execution_count": 12,
     "metadata": {},
     "output_type": "execute_result"
    }
   ],
   "source": [
    "np.around(svd.explained_variance_, 5)"
   ]
  },
  {
   "cell_type": "markdown",
   "id": "32d9adf2",
   "metadata": {},
   "source": [
    "第一列v1和第二列v2的相关性非常强，且var(v1)<var(v2) 所以奇异值转换后v1对应的v1<sup>'</sup>是最小的主成分，被截断了"
   ]
  },
  {
   "cell_type": "markdown",
   "id": "f86b6b38",
   "metadata": {},
   "source": [
    "## 应用"
   ]
  },
  {
   "cell_type": "markdown",
   "id": "b5df2fbd",
   "metadata": {},
   "source": [
    "### 在PCA降维\n",
    "在主成分分析（PCA）原理总结中，我们讲到要用PCA降维，需要找到样本协方差矩阵XTX\n",
    "的最大的d个特征向量，然后用这最大的d个特征向量张成的矩阵来做低维投影降维。可以看出，在这个过程中需要先求出协方差矩阵XTX\n",
    "，当样本数多样本特征数也多的时候，这个计算量是很大的。\n",
    "\n",
    "　　　　注意到我们的SVD也可以得到协方差矩阵XTX\n",
    "最大的d个特征向量张成的矩阵，但是SVD有个好处，有一些SVD的实现算法可以不求先求出协方差矩阵XTX\n",
    "，也能求出我们的右奇异矩阵V\n",
    "。也就是说，我们的PCA算法可以不用做特征分解，而是做SVD来完成。这个方法在样本量很大的时候很有效。实际上，scikit-learn的PCA算法的背后真正的实现就是用的SVD，而不是我们我们认为的暴力特征分解。\n",
    "\n",
    "<strong>SVD和PCA的区别</strong>:\n",
    " SVD算法相较于使用SVD的PCA,PCA需要对样本中心化,而SVD不需要中心化"
   ]
  },
  {
   "cell_type": "code",
   "execution_count": 76,
   "id": "19468516",
   "metadata": {
    "scrolled": true
   },
   "outputs": [
    {
     "data": {
      "text/plain": [
       "array([[-0.64, -0.86],\n",
       "       [ 3.29,  0.36],\n",
       "       [-1.36,  2.21],\n",
       "       [-0.48, -0.4 ],\n",
       "       [-0.81, -1.31]])"
      ]
     },
     "execution_count": 76,
     "metadata": {},
     "output_type": "execute_result"
    }
   ],
   "source": [
    "# PCA对X降维\n",
    "X_dr = PCA(2).fit_transform(X)\n",
    "np.around(X_dr, 2)"
   ]
  },
  {
   "cell_type": "markdown",
   "id": "8f382c49",
   "metadata": {},
   "source": [
    "用SVD按PCA的思路实现X的降维"
   ]
  },
  {
   "cell_type": "code",
   "execution_count": 80,
   "id": "67dd96a0",
   "metadata": {},
   "outputs": [
    {
     "name": "stdout",
     "output_type": "stream",
     "text": [
      "0    0.6\n",
      "1    0.6\n",
      "2    0.0\n",
      "3    0.8\n",
      "dtype: float64\n",
      "     0    1    2    3\n",
      "0  0.4 -0.6  0.0 -0.8\n",
      "1 -0.6 -0.6  0.0  3.2\n",
      "2 -0.6  2.4  0.0 -0.8\n",
      "3 -0.6 -0.6  0.0 -0.8\n",
      "4  1.4 -0.6  0.0 -0.8\n"
     ]
    },
    {
     "data": {
      "text/plain": [
       "array([[-0.64, -0.86],\n",
       "       [ 3.29,  0.36],\n",
       "       [-1.36,  2.21],\n",
       "       [-0.48, -0.4 ],\n",
       "       [-0.81, -1.31]])"
      ]
     },
     "execution_count": 80,
     "metadata": {},
     "output_type": "execute_result"
    }
   ],
   "source": [
    "# 中心化\n",
    "x_means = X.mean(axis=0)\n",
    "print(x_means)\n",
    "def center(row):\n",
    "    return row-x_means\n",
    "X_center = X.apply(center,axis=1)\n",
    "print(X_center)\n",
    "# 奇异值分解\n",
    "svd2 = TruncatedSVD(n_components=2, random_state=2)\n",
    "X_center_transform = svd2.fit_transform(X_center)\n",
    "np.around(X_center_transform, 2)"
   ]
  },
  {
   "cell_type": "markdown",
   "id": "45707d90",
   "metadata": {},
   "source": [
    "### 数据压缩"
   ]
  },
  {
   "cell_type": "code",
   "execution_count": null,
   "id": "0fb02b2c",
   "metadata": {},
   "outputs": [],
   "source": []
  },
  {
   "cell_type": "markdown",
   "id": "4f72946f",
   "metadata": {},
   "source": [
    "### 降噪"
   ]
  },
  {
   "cell_type": "code",
   "execution_count": null,
   "id": "9effd82b",
   "metadata": {},
   "outputs": [],
   "source": []
  }
 ],
 "metadata": {
  "kernelspec": {
   "display_name": "Python 3 (ipykernel)",
   "language": "python",
   "name": "python3"
  },
  "language_info": {
   "codemirror_mode": {
    "name": "ipython",
    "version": 3
   },
   "file_extension": ".py",
   "mimetype": "text/x-python",
   "name": "python",
   "nbconvert_exporter": "python",
   "pygments_lexer": "ipython3",
   "version": "3.9.13"
  }
 },
 "nbformat": 4,
 "nbformat_minor": 5
}
